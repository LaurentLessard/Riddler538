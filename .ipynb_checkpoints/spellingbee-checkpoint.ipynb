{
 "cells": [
  {
   "cell_type": "markdown",
   "metadata": {},
   "source": [
    "# **Spelling Bee (version with S)**\n",
    "\n",
    "## [Riddler Classic](https://fivethirtyeight.com/features/can-you-solve-the-vexing-vexillology/), Jan 3, 2020\n",
    "\n",
    "### solution by [Laurent Lessard](https://laurentlessard.com)\n",
    "\n",
    "The New York Times recently launched some new word puzzles, one of which is [Spelling Bee](https://www.nytimes.com/puzzles/spelling-bee). In this game, seven letters are arranged in a honeycomb lattice, with one letter in the center. Here’s the lattice from December 24, 2019:\n",
    "\n",
    "<img src=\"https://fivethirtyeight.com/wp-content/uploads/2020/01/Screen-Shot-2019-12-24-at-5.46.55-PM.png?w=1136\" width=\"250\">\n",
    "\n",
    "The goal is to identify as many words that meet the following criteria:\n",
    "- The word must be at least four letters long.\n",
    "- The word must include the central letter.\n",
    "- The word cannot include any letter beyond the seven given letters.\n",
    "\n",
    "Note that letters can be repeated. For example, the words GAME and AMALGAM are both acceptable words. Four-letter words are worth 1 point each, while five-letter words are worth 5 points, six-letter words are worth 6 points, seven-letter words are worth 7 points, etc. Words that use all of the seven letters in the honeycomb are known as “pangrams” and earn 7 bonus points (in addition to the points for the length of the word). So in the above example, MEGAPLEX is worth 15 points.\n",
    "\n",
    "Which seven-letter honeycomb results in the highest possible game score? To be a valid choice of seven letters, no letter can be repeated, it must not contain the letter S (that would be too easy) and there must be at least one pangram.\n",
    "\n",
    "For consistency, please use [this word list](https://norvig.com/ngrams/enable1.txt) to check your game score.\n",
    "\n",
    "---"
   ]
  },
  {
   "cell_type": "markdown",
   "metadata": {},
   "source": [
    "\n",
    "# My solution\n",
    "\n",
    "I used a brute-force approach: compute the score of every possible game board, and then pick the best one. That being said, not all brute-force approaches are created equal! The **slow way** to solve this problem is to enumerate all sets of 7 distinct letters with each possible central tile. This leads to 4,604,600 boards to test (3,364,900 if we don't include S). A **better approach** is to start by listing all pangrams. There are 37,876 pangrams (14,741 if you don't include S). Each pangram must contain exactly 7 distinct letters. Since we know a board must contain a pangram in order to be eligible, we can extract all possible boards from the list of pangrams! This leads to a set of 109,193 boards to test (55,902 if we don't include S). So a much smaller list.\n",
    "\n",
    "To find the score for a particular board, we need to look at all words in the dictionary, see which ones we can make using the letters in our board, and add up all the scores for those words. We can use several strategies to save time in this step:\n",
    "- Make the dictionary smaller. We can eliminate all words that have fewer than 4 letters, or that contain more than 7 different letters.\n",
    "- Pre-compute the scores of all words in the dictionary and store them in a lookup table.\n",
    "- Create separate dictionaries for each \"center tile\", e.g. dictionary of all words that contain 'a', all words that contain 'b', etc.\n",
    "- Use loops that exit early whenever possible; no need to search the rest of the list if we already found what we're looking for.\n",
    "\n",
    "After all was said and done, it took about 26 min to score all the boards (6 min if we don't include S).\n",
    "\n",
    "- The winning board (using S) was **EAINRST** (with E in the center), for a total score of 8681.<br/>\n",
    "This board yields a total of 1179 words, 86 of which are pangrams.<br/>\n",
    "The highest-scoring words are ENTERTAINERS, INTERSTRAINS, STRAITNESSES (19 points each).\n",
    "\n",
    "- The winning board (not using S) was **RAEGINT** (with R in the center), for a total score of 3898.<br/>\n",
    "This board yields a total of 537 words, 50 of which are pangrams.<br/>\n",
    "The highest-scoring words are REAGGREGATING and REINTEGRATING (20 points each).\n",
    "\n",
    "- The worst possible board was **XCINOPR** (with X in the center), for a total score of 14.<br/>\n",
    "There is only one valid word you can make with this board (must be 4+ letters long, must include X): PRINCOX.<br/>\n",
    "So a single word, and it's a pangram!\n",
    "\n",
    "Here is the code I wrote to solve the problem:\n",
    "\n",
    "---"
   ]
  },
  {
   "cell_type": "markdown",
   "metadata": {},
   "source": [
    "### Perform pre-computations\n",
    "Filter out the dictionary to eliminate words that can't occur and throw away all boards that don't contain pangrams."
   ]
  },
  {
   "cell_type": "code",
   "execution_count": 1,
   "metadata": {},
   "outputs": [
    {
     "name": "stdout",
     "output_type": "stream",
     "text": [
      "there are 98141 admissible words in the dictionary\n",
      "there are 37876 pangrams in the dictionary\n",
      "there are 109193 different valid boards (contain at least one pangram)\n"
     ]
    }
   ],
   "source": [
    "# read full word list\n",
    "with open('enable1.txt', 'r') as f:\n",
    "    wordlist = f.read().splitlines()\n",
    "    \n",
    "# all letters in the alphabet\n",
    "letters = 'abcdefghijklmnopqrstuvwxyz'\n",
    "\n",
    "# keep only the words that have length at least 4\n",
    "wordlist = [word for word in wordlist if len(word) >= 4]\n",
    "\n",
    "# keep only the words that have at most 7 distinct letters\n",
    "wordlist = [word for word in wordlist if len(set(word)) <= 7]\n",
    "\n",
    "# set of pangram words\n",
    "panlist = [word for word in wordlist if len(set(word)) == 7]\n",
    "\n",
    "print(\"there are\", len(wordlist), \"admissible words in the dictionary\")\n",
    "print(\"there are\", len(panlist), \"pangrams in the dictionary\")\n",
    "\n",
    "# all the strings of seven distinct letters that can produce a pangram\n",
    "# (start from list of pangrams and extract all sets of seven letters)\n",
    "valid_seven_letters = sorted(list(set( [ ''.join(sorted(set(list(p)))) for p in panlist ] )))\n",
    "\n",
    "# list all admissible boards (boards that contain at least one pangram)\n",
    "boards = [ s[i]+s[:i]+s[i+1:] for i in range(7) for s in valid_seven_letters ]\n",
    "\n",
    "print(\"there are\", len(boards), \"different valid boards (contain at least one pangram)\")"
   ]
  },
  {
   "cell_type": "markdown",
   "metadata": {},
   "source": [
    "### Method for scoring individual words"
   ]
  },
  {
   "cell_type": "code",
   "execution_count": 17,
   "metadata": {},
   "outputs": [],
   "source": [
    "# compute the score of a given word\n",
    "def word_score(word):\n",
    "    wordlen = len(word)\n",
    "    if wordlen == 4:\n",
    "        return 1\n",
    "    elif len(set(word)) == 7:  # if it's a pangram, add 7 more points\n",
    "        return wordlen + 7\n",
    "    else:\n",
    "        return wordlen\n",
    "\n",
    "# helper lookup table of all admissible words and their scores\n",
    "# precomputing the scores of all words saves time later!\n",
    "wscorelook = {word:word_score(word) for word in wordlist}"
   ]
  },
  {
   "cell_type": "markdown",
   "metadata": {},
   "source": [
    "### Method for scoring boards"
   ]
  },
  {
   "cell_type": "code",
   "execution_count": 18,
   "metadata": {},
   "outputs": [],
   "source": [
    "# create a separate list of words for each center letter\n",
    "# this also helps to save time\n",
    "wlistc = {}\n",
    "for center_letter in letters:\n",
    "    wlistc[center_letter] = [word for word in wordlist if center_letter in word]\n",
    "\n",
    "# helper function: is a given word makeable from a given board?\n",
    "# NOTE: this implementation is about 3x faster than using set(word).issubset(board)\n",
    "def islegal(word,board):\n",
    "    for lett in word:\n",
    "        if lett not in board:\n",
    "            return False\n",
    "    return True\n",
    "\n",
    "# compute the score of a given board\n",
    "def score_board(board):\n",
    "    return sum( [wscorelook[word] for word in wlistc[board[0]] if islegal(word,board)] )"
   ]
  },
  {
   "cell_type": "markdown",
   "metadata": {},
   "source": [
    "### Big computation: score all the boards!"
   ]
  },
  {
   "cell_type": "code",
   "execution_count": null,
   "metadata": {},
   "outputs": [],
   "source": [
    "%%time\n",
    "board_scores = [ (board,score_board(board)) for board in boards ]"
   ]
  },
  {
   "cell_type": "code",
   "execution_count": 19,
   "metadata": {},
   "outputs": [
    {
     "name": "stdout",
     "output_type": "stream",
     "text": [
      "The best board (that may contain S) is: eainrst with score: 8681\n",
      "The best board (that does not contain S) is: raegint with score: 3898\n",
      "The worst board is: xcinopr with score: 14\n"
     ]
    }
   ],
   "source": [
    "# sort all the boards based on their score\n",
    "board_scores.sort(key = lambda x: x[1])\n",
    "\n",
    "print(\"The best board (that may contain S) is:\", board_scores[-1][0], \"with score:\", board_scores[-1][1])\n",
    "\n",
    "for (board,score) in board_scores[::-1]:\n",
    "    if 's' not in board:\n",
    "        print(\"The best board (that does not contain S) is:\", board, \"with score:\", score)\n",
    "        break\n",
    "\n",
    "print(\"The worst board is:\", board_scores[0][0], \"with score:\", board_scores[0][1])"
   ]
  },
  {
   "cell_type": "code",
   "execution_count": 36,
   "metadata": {},
   "outputs": [],
   "source": [
    "# get stats for a given word\n",
    "def get_stats(board):\n",
    "    # extract words from this winner\n",
    "    wrds = [ (word,wscorelook[word]) for word in wlistc[board[0]] if islegal(word,board) ]\n",
    "    wrds.sort(key=lambda x: x[1], reverse=True)\n",
    "    pcount = len( [word for word,score in wrds if len(set(word))==7] )\n",
    "    print(\"The board\", board, \"can make\", len(wrds), \"valid words, including\", pcount, \"pangrams.\")\n",
    "    print(\"Total score is\", sum([score for word,score in wrds]), \"and the top 5 words are:\")\n",
    "    print(wrds[:5])"
   ]
  },
  {
   "cell_type": "code",
   "execution_count": 37,
   "metadata": {},
   "outputs": [
    {
     "name": "stdout",
     "output_type": "stream",
     "text": [
      "The board eainrst can make 1179 valid words, including 86 pangrams.\n",
      "Total score is 8681 and the top 5 words are:\n",
      "[('entertainers', 19), ('interstrains', 19), ('straitnesses', 19), ('intenerates', 18), ('interstates', 18)]\n"
     ]
    }
   ],
   "source": [
    "get_stats('eainrst')"
   ]
  },
  {
   "cell_type": "code",
   "execution_count": 38,
   "metadata": {},
   "outputs": [
    {
     "name": "stdout",
     "output_type": "stream",
     "text": [
      "The board raegint can make 537 valid words, including 50 pangrams.\n",
      "Total score is 3898 and the top 5 words are:\n",
      "[('reaggregating', 20), ('reintegrating', 20), ('entertaining', 19), ('intenerating', 19), ('regenerating', 19)]\n"
     ]
    }
   ],
   "source": [
    "get_stats('raegint')"
   ]
  },
  {
   "cell_type": "code",
   "execution_count": 39,
   "metadata": {},
   "outputs": [
    {
     "name": "stdout",
     "output_type": "stream",
     "text": [
      "The board xcinopr can make 1 valid words, including 1 pangrams.\n",
      "Total score is 14 and the top 5 words are:\n",
      "[('princox', 14)]\n"
     ]
    }
   ],
   "source": [
    "get_stats('xcinopr')"
   ]
  },
  {
   "cell_type": "code",
   "execution_count": null,
   "metadata": {},
   "outputs": [],
   "source": []
  }
 ],
 "metadata": {
  "kernelspec": {
   "display_name": "Python 3",
   "language": "python",
   "name": "python3"
  },
  "language_info": {
   "codemirror_mode": {
    "name": "ipython",
    "version": 3
   },
   "file_extension": ".py",
   "mimetype": "text/x-python",
   "name": "python",
   "nbconvert_exporter": "python",
   "pygments_lexer": "ipython3",
   "version": "3.8.1"
  }
 },
 "nbformat": 4,
 "nbformat_minor": 4
}
