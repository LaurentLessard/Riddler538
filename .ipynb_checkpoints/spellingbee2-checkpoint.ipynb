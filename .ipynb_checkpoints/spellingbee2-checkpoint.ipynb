{
 "cells": [
  {
   "cell_type": "markdown",
   "metadata": {},
   "source": [
    "# **Spelling Bee (version with S)**\n",
    "\n",
    "## [Riddler Classic](https://fivethirtyeight.com/features/can-you-solve-the-vexing-vexillology/), Jan 3, 2020\n",
    "\n",
    "### solution by [Laurent Lessard](https://laurentlessard.com)\n",
    "\n",
    "The New York Times recently launched some new word puzzles, one of which is [Spelling Bee](https://www.nytimes.com/puzzles/spelling-bee). In this game, seven letters are arranged in a honeycomb lattice, with one letter in the center. Here’s the lattice from December 24, 2019:\n",
    "\n",
    "<img src=\"https://fivethirtyeight.com/wp-content/uploads/2020/01/Screen-Shot-2019-12-24-at-5.46.55-PM.png?w=1136\" width=\"250\">\n",
    "\n",
    "The goal is to identify as many words that meet the following criteria:\n",
    "- The word must be at least four letters long.\n",
    "- The word must include the central letter.\n",
    "- The word cannot include any letter beyond the seven given letters.\n",
    "\n",
    "Note that letters can be repeated. For example, the words GAME and AMALGAM are both acceptable words. Four-letter words are worth 1 point each, while five-letter words are worth 5 points, six-letter words are worth 6 points, seven-letter words are worth 7 points, etc. Words that use all of the seven letters in the honeycomb are known as “pangrams” and earn 7 bonus points (in addition to the points for the length of the word). So in the above example, MEGAPLEX is worth 15 points.\n",
    "\n",
    "Which seven-letter honeycomb results in the highest possible game score? To be a valid choice of seven letters, no letter can be repeated, it must not contain the letter S (that would be too easy) and there must be at least one pangram.\n",
    "\n",
    "For consistency, please use [this word list](https://norvig.com/ngrams/enable1.txt) to check your game score.\n",
    "\n",
    "---"
   ]
  },
  {
   "cell_type": "markdown",
   "metadata": {},
   "source": [
    "\n",
    "# My solution\n",
    "\n",
    "I used a brute-force approach: compute the score of every possible game board, and then pick the best one. That being said, not all brute-force approaches are created equal! The **slow way** to solve this problem is to enumerate all sets of 7 distinct letters with each possible central tile. This leads to 4,604,600 boards to test (3,364,900 if we don't include S). A **better approach** is to start by listing all pangrams. There are 37,876 pangrams (14,741 if you don't include S). Each pangram must contain exactly 7 distinct letters. Since we know a board must contain a pangram in order to be eligible, we can extract all possible boards from the list of pangrams! This leads to a set of 109,193 boards to test (55,902 if we don't include S). So a much smaller list.\n",
    "\n",
    "To find the score for a particular board, we need to look at all words in the dictionary, see which ones we can make using the letters in our board, and add up all the scores for those words. We can use several strategies to save time in this step:\n",
    "- Make the dictionary smaller. We can eliminate all words that have fewer than 4 letters, or that contain more than 7 different letters.\n",
    "- Pre-compute the scores of all words in the dictionary and store them in a lookup table.\n",
    "- Create separate dictionaries for each \"center tile\", e.g. dictionary of all words that contain 'a', all words that contain 'b', etc.\n",
    "- Use loops that exit early whenever possible; no need to search the rest of the list if we already found what we're looking for.\n",
    "\n",
    "After all was said and done, it took about 26 min to score all the boards (6 min if we don't include S).\n",
    "\n",
    "- The winning board (using S) was **EAINRST** (with E in the center), for a total score of 8681.<br/>\n",
    "This board yields a total of 1179 words, 86 of which are pangrams.<br/>\n",
    "The highest-scoring words are ENTERTAINERS, INTERSTRAINS, STRAITNESSES (19 points each).\n",
    "\n",
    "- The winning board (not using S) was **RAEGINT** (with R in the center), for a total score of 3898.<br/>\n",
    "This board yields a total of 537 words, 50 of which are pangrams.<br/>\n",
    "The highest-scoring words are REAGGREGATING and REINTEGRATING (20 points each).\n",
    "\n",
    "- The worst possible board was **XCINOPR** (with X in the center), for a total score of 14.<br/>\n",
    "There is only one valid word you can make with this board (must be 4+ letters long, must include X): PRINCOX.<br/>\n",
    "So a single word, and it's a pangram!\n",
    "\n",
    "Here is the code I wrote to solve the problem:\n",
    "\n",
    "---"
   ]
  },
  {
   "cell_type": "markdown",
   "metadata": {},
   "source": [
    "### Perform pre-computations\n",
    "Filter out the dictionary to eliminate words that can't occur and throw away all boards that don't contain pangrams."
   ]
  },
  {
   "cell_type": "code",
   "execution_count": 235,
   "metadata": {},
   "outputs": [],
   "source": [
    "def get_wordscore(word):\n",
    "    wordlen = len(word)\n",
    "    if wordlen == 4:\n",
    "        return 1\n",
    "    elif len(set(word)) == 7:  # if it's a pangram, add 7 more points\n",
    "        return wordlen + 7\n",
    "    else:\n",
    "        return wordlen"
   ]
  },
  {
   "cell_type": "code",
   "execution_count": 268,
   "metadata": {},
   "outputs": [],
   "source": [
    "# read full word list\n",
    "with open('enable1.txt', 'r') as f:\n",
    "    words = f.read().splitlines()\n",
    "    \n",
    "# all letters in the alphabet\n",
    "letters = 'abcdefghijklmnopqrstuvwxyz'\n",
    "\n",
    "remlett = 's'\n",
    "\n",
    "letters = ''.join(set(letters).difference(set(remlett)))\n",
    "for lett in remlett:\n",
    "    words = [word for word in words if lett not in word]\n",
    "    \n",
    "# keep only the words that have length at least 4\n",
    "words = [word for word in words if len(word) >= 4]\n",
    "\n",
    "# keep only the words that have at most 7 distinct letters\n",
    "words = [word for word in words if len(set(word)) <= 7]"
   ]
  },
  {
   "cell_type": "code",
   "execution_count": 269,
   "metadata": {},
   "outputs": [],
   "source": [
    "# dictionary of scores for all words\n",
    "word_scores = dict()\n",
    "wordtuples = [tuple(sorted(list(set(word)))) for word in words]\n",
    "\n",
    "# initialize\n",
    "for wtup in wordtuples:\n",
    "    word_scores[wtup] = 0\n",
    "    \n",
    "# add up all the scores\n",
    "for word in words:\n",
    "    word_scores[ tuple(sorted(list(set(word)))) ] += get_wordscore(word)\n",
    "\n",
    "# make separate dictionaries for each letter that the word could contain\n",
    "words_by_letter = dict()\n",
    "for lett in letters:\n",
    "    words_by_letter[lett] = { wtup:set(wtup) for wtup in wordtuples if lett in wtup }"
   ]
  },
  {
   "cell_type": "code",
   "execution_count": 270,
   "metadata": {},
   "outputs": [],
   "source": [
    "# set of pangram words\n",
    "pangrams = [word for word in words if len(set(word)) == 7]\n",
    "\n",
    "pangramseven = [ ''.join(sorted(list(set(pan)))) for pan in pangrams]\n"
   ]
  },
  {
   "cell_type": "code",
   "execution_count": 239,
   "metadata": {},
   "outputs": [
    {
     "name": "stdout",
     "output_type": "stream",
     "text": [
      "Wall time: 31.8 s\n"
     ]
    }
   ],
   "source": [
    "%%time\n",
    "board_scores = dict()\n",
    "\n",
    "for ps in pangramseven:\n",
    "    for i,lett in enumerate(ps):\n",
    "        for wtup,wset in words_by_letter[lett].items():\n",
    "            if wset.issubset(ps):\n",
    "                board_scores[ lett + ps[:i] + ps[i+1:] ] = word_scores[wtup]"
   ]
  },
  {
   "cell_type": "code",
   "execution_count": 227,
   "metadata": {},
   "outputs": [
    {
     "data": {
      "text/plain": [
       "1918"
      ]
     },
     "execution_count": 227,
     "metadata": {},
     "output_type": "execute_result"
    }
   ],
   "source": [
    "len(board_scores)"
   ]
  },
  {
   "cell_type": "code",
   "execution_count": 200,
   "metadata": {},
   "outputs": [
    {
     "name": "stdout",
     "output_type": "stream",
     "text": [
      "there are 10495 admissible words in the dictionary\n",
      "there are 1929 pangrams in the dictionary\n",
      "there are 9121 different valid boards (contain at least one pangram)\n"
     ]
    }
   ],
   "source": [
    "wordsets = [set(word) for word in words]\n",
    "\n",
    "# for each letter, assemble all words containing the letter 'a':\n",
    "wordlist = [word for word in words if 'a' in word]\n",
    "\n",
    "wordsets_a = [set(word) for word in wordlist]\n",
    "\n",
    "# set of pangram words\n",
    "pangrams = [word for word in words if len(set(word)) == 7]\n",
    "\n",
    "# pangrams containing the letter a\n",
    "pangramlist = [pangram for pangram in pangrams if 'a' in pangram]\n",
    "\n",
    "pangramseven = sorted(list(set( [ ''.join(sorted(set(pangram))) for pangram in pangramlist ] )))\n",
    "\n",
    "d = Dict()\n",
    "\n",
    "for p in pangramseven:\n",
    "    for w in wordsets_a:\n",
    "        if w.issubset(p):\n",
    "            d[p] += \n",
    "\n",
    "\n",
    "\n",
    "print(\"there are\", len(words), \"admissible words in the dictionary\")\n",
    "print(\"there are\", len(pangrams), \"pangrams in the dictionary\")\n",
    "\n",
    "# all the strings of seven distinct letters that can produce a pangram\n",
    "# (start from list of pangrams and extract all sets of seven letters)\n",
    "valid_seven_letters = sorted(list(set( [ ''.join(sorted(set(list(p)))) for p in pangrams ] )))\n",
    "\n",
    "# list all admissible boards (boards that contain at least one pangram)\n",
    "boards = [ s[i]+s[:i]+s[i+1:] for i in range(7) for s in valid_seven_letters ]\n",
    "\n",
    "print(\"there are\", len(boards), \"different valid boards (contain at least one pangram)\")"
   ]
  },
  {
   "cell_type": "code",
   "execution_count": 194,
   "metadata": {},
   "outputs": [
    {
     "data": {
      "text/plain": [
       "10495"
      ]
     },
     "execution_count": 194,
     "metadata": {},
     "output_type": "execute_result"
    }
   ],
   "source": [
    "len(words)"
   ]
  },
  {
   "cell_type": "markdown",
   "metadata": {},
   "source": [
    "### Method for scoring individual words"
   ]
  },
  {
   "cell_type": "code",
   "execution_count": 195,
   "metadata": {},
   "outputs": [],
   "source": [
    "# compute the score of a given word\n",
    "def word_score(word):\n",
    "    wordlen = len(word)\n",
    "    if wordlen == 4:\n",
    "        return 1\n",
    "    elif len(set(word)) == 7:  # if it's a pangram, add 7 more points\n",
    "        return wordlen + 7\n",
    "    else:\n",
    "        return wordlen\n",
    "\n",
    "# helper lookup table of all admissible words and their scores\n",
    "# precomputing the scores of all words saves time later!\n",
    "wscorelook = {word:word_score(word) for word in wordlist}"
   ]
  },
  {
   "cell_type": "code",
   "execution_count": 196,
   "metadata": {},
   "outputs": [],
   "source": [
    "import pandas as pd"
   ]
  },
  {
   "cell_type": "code",
   "execution_count": 197,
   "metadata": {},
   "outputs": [],
   "source": [
    "wordsets = [tuple(sorted(list(set(word)))) for word in words]\n",
    "df = pd.DataFrame( data=words, columns=['word'] )\n",
    "df['score'] = df.word.apply(word_score)\n",
    "df['wordtup'] = df.word.apply(lambda x: tuple(sorted(list(set(x)))))\n",
    "df2 = df.pivot_table(values='score', index='wordtup', aggfunc=sum)\n",
    "df2['wordset'] = df2.index\n",
    "df2['wordset'] = df2.wordset.apply(set)"
   ]
  },
  {
   "cell_type": "code",
   "execution_count": 198,
   "metadata": {},
   "outputs": [
    {
     "name": "stdout",
     "output_type": "stream",
     "text": [
      "Wall time: 40.5 s\n"
     ]
    }
   ],
   "source": [
    "%%time\n",
    "\n",
    "boardscores = dict()\n",
    "for board in boards:\n",
    "    boardscores[board] = 0\n",
    "\n",
    "for wtup in df2.index:\n",
    "    wset = df2.wordset[wtup]\n",
    "    wsco = df2.score[wtup]\n",
    "    for board in boards:\n",
    "        if wset.issubset(board):\n",
    "            boardscores[board] += wsco"
   ]
  },
  {
   "cell_type": "code",
   "execution_count": 9,
   "metadata": {},
   "outputs": [],
   "source": [
    "from scipy.sparse import dok_matrix"
   ]
  },
  {
   "cell_type": "code",
   "execution_count": 59,
   "metadata": {},
   "outputs": [],
   "source": [
    "P = [[ lett in word for lett in letters ] for word in boards]\n",
    "Q = [[ lett in word for lett in letters ] for word in words]"
   ]
  },
  {
   "cell_type": "code",
   "execution_count": 89,
   "metadata": {},
   "outputs": [
    {
     "data": {
      "text/plain": [
       "True"
      ]
     },
     "execution_count": 89,
     "metadata": {},
     "output_type": "execute_result"
    }
   ],
   "source": [
    "def iscontainedin(p,q):\n",
    "    for i in p:\n",
    "        if i > "
   ]
  },
  {
   "cell_type": "code",
   "execution_count": null,
   "metadata": {},
   "outputs": [],
   "source": [
    "# to check if p is contained in q,\n",
    "# test "
   ]
  },
  {
   "cell_type": "code",
   "execution_count": 78,
   "metadata": {},
   "outputs": [
    {
     "name": "stdout",
     "output_type": "stream",
     "text": [
      "Wall time: 1.96 s\n"
     ]
    }
   ],
   "source": [
    "%%time\n",
    "R = [[ q < p for p in P ] for q in Q ]"
   ]
  },
  {
   "cell_type": "code",
   "execution_count": 77,
   "metadata": {},
   "outputs": [],
   "source": [
    "F = [[i+j for i in range(3)] for j in range(4)]"
   ]
  },
  {
   "cell_type": "code",
   "execution_count": 80,
   "metadata": {},
   "outputs": [
    {
     "data": {
      "text/plain": [
       "3488"
      ]
     },
     "execution_count": 80,
     "metadata": {},
     "output_type": "execute_result"
    }
   ],
   "source": [
    "len(R)"
   ]
  },
  {
   "cell_type": "markdown",
   "metadata": {},
   "source": [
    "### Method for scoring boards"
   ]
  },
  {
   "cell_type": "code",
   "execution_count": 274,
   "metadata": {},
   "outputs": [
    {
     "data": {
      "text/plain": [
       "44585"
      ]
     },
     "execution_count": 274,
     "metadata": {},
     "output_type": "execute_result"
    }
   ],
   "source": [
    "len(words)"
   ]
  },
  {
   "cell_type": "code",
   "execution_count": null,
   "metadata": {},
   "outputs": [],
   "source": [
    "# 1.87s vs 5.31s vs 6.19s"
   ]
  },
  {
   "cell_type": "code",
   "execution_count": null,
   "metadata": {},
   "outputs": [],
   "source": []
  },
  {
   "cell_type": "code",
   "execution_count": null,
   "metadata": {},
   "outputs": [],
   "source": []
  },
  {
   "cell_type": "code",
   "execution_count": 279,
   "metadata": {},
   "outputs": [],
   "source": [
    "wdic = dict()\n",
    "for word in words:\n",
    "    wdic[word] = set(word)\n",
    "    \n",
    "wsets = [wset for word,wset in wdic.items()]"
   ]
  },
  {
   "cell_type": "code",
   "execution_count": 280,
   "metadata": {},
   "outputs": [
    {
     "name": "stdout",
     "output_type": "stream",
     "text": [
      "Wall time: 2.76 s\n"
     ]
    }
   ],
   "source": [
    "%%time\n",
    "q = [ [wset.issubset(board) for wset in wsets] for board in boards[:100] ]"
   ]
  },
  {
   "cell_type": "code",
   "execution_count": 265,
   "metadata": {},
   "outputs": [],
   "source": [
    "def islegal3(word,board):\n",
    "    return set(word).issubset(board)"
   ]
  },
  {
   "cell_type": "code",
   "execution_count": 260,
   "metadata": {},
   "outputs": [],
   "source": [
    "def islegal2(word,board):\n",
    "    return all(lett in board for lett in word)"
   ]
  },
  {
   "cell_type": "code",
   "execution_count": 276,
   "metadata": {},
   "outputs": [],
   "source": [
    "def islegal4(word,board):\n",
    "    return word.issubset(board)"
   ]
  },
  {
   "cell_type": "code",
   "execution_count": 262,
   "metadata": {},
   "outputs": [],
   "source": [
    "# create a separate list of words for each center letter\n",
    "# this also helps to save time\n",
    "wlistc = {}\n",
    "for center_letter in letters:\n",
    "    wlistc[center_letter] = [word for word in wordlist if center_letter in word]\n",
    "\n",
    "# helper function: is a given word makeable from a given board?\n",
    "# NOTE: this implementation is about 3x faster than using set(word).issubset(board)\n",
    "def islegal(word,board):\n",
    "    for lett in word:\n",
    "        if lett not in board:\n",
    "            return False\n",
    "    return True\n",
    "\n",
    "# compute the score of a given board\n",
    "def score_board(board):\n",
    "    return sum( [wscorelook[word] for word in wlistc[board[0]] if islegal(word,board)] )"
   ]
  },
  {
   "cell_type": "code",
   "execution_count": 244,
   "metadata": {},
   "outputs": [
    {
     "ename": "KeyboardInterrupt",
     "evalue": "",
     "output_type": "error",
     "traceback": [
      "\u001b[1;31m---------------------------------------------------------------------------\u001b[0m",
      "\u001b[1;31mKeyboardInterrupt\u001b[0m                         Traceback (most recent call last)",
      "\u001b[1;32m<timed exec>\u001b[0m in \u001b[0;36m<module>\u001b[1;34m\u001b[0m\n",
      "\u001b[1;32mc:\\users\\laurent\\appdata\\local\\programs\\python\\python38-32\\lib\\site-packages\\scipy\\sparse\\_index.py\u001b[0m in \u001b[0;36m__setitem__\u001b[1;34m(self, key, x)\u001b[0m\n\u001b[0;32m     76\u001b[0m \u001b[1;33m\u001b[0m\u001b[0m\n\u001b[0;32m     77\u001b[0m     \u001b[1;32mdef\u001b[0m \u001b[0m__setitem__\u001b[0m\u001b[1;33m(\u001b[0m\u001b[0mself\u001b[0m\u001b[1;33m,\u001b[0m \u001b[0mkey\u001b[0m\u001b[1;33m,\u001b[0m \u001b[0mx\u001b[0m\u001b[1;33m)\u001b[0m\u001b[1;33m:\u001b[0m\u001b[1;33m\u001b[0m\u001b[1;33m\u001b[0m\u001b[0m\n\u001b[1;32m---> 78\u001b[1;33m         \u001b[0mrow\u001b[0m\u001b[1;33m,\u001b[0m \u001b[0mcol\u001b[0m \u001b[1;33m=\u001b[0m \u001b[0mself\u001b[0m\u001b[1;33m.\u001b[0m\u001b[0m_validate_indices\u001b[0m\u001b[1;33m(\u001b[0m\u001b[0mkey\u001b[0m\u001b[1;33m)\u001b[0m\u001b[1;33m\u001b[0m\u001b[1;33m\u001b[0m\u001b[0m\n\u001b[0m\u001b[0;32m     79\u001b[0m \u001b[1;33m\u001b[0m\u001b[0m\n\u001b[0;32m     80\u001b[0m         \u001b[1;32mif\u001b[0m \u001b[0misinstance\u001b[0m\u001b[1;33m(\u001b[0m\u001b[0mrow\u001b[0m\u001b[1;33m,\u001b[0m \u001b[0mINT_TYPES\u001b[0m\u001b[1;33m)\u001b[0m \u001b[1;32mand\u001b[0m \u001b[0misinstance\u001b[0m\u001b[1;33m(\u001b[0m\u001b[0mcol\u001b[0m\u001b[1;33m,\u001b[0m \u001b[0mINT_TYPES\u001b[0m\u001b[1;33m)\u001b[0m\u001b[1;33m:\u001b[0m\u001b[1;33m\u001b[0m\u001b[1;33m\u001b[0m\u001b[0m\n",
      "\u001b[1;32mc:\\users\\laurent\\appdata\\local\\programs\\python\\python38-32\\lib\\site-packages\\scipy\\sparse\\_index.py\u001b[0m in \u001b[0;36m_validate_indices\u001b[1;34m(self, key)\u001b[0m\n\u001b[0;32m    130\u001b[0m         \u001b[0mrow\u001b[0m\u001b[1;33m,\u001b[0m \u001b[0mcol\u001b[0m \u001b[1;33m=\u001b[0m \u001b[0m_unpack_index\u001b[0m\u001b[1;33m(\u001b[0m\u001b[0mkey\u001b[0m\u001b[1;33m)\u001b[0m\u001b[1;33m\u001b[0m\u001b[1;33m\u001b[0m\u001b[0m\n\u001b[0;32m    131\u001b[0m \u001b[1;33m\u001b[0m\u001b[0m\n\u001b[1;32m--> 132\u001b[1;33m         \u001b[1;32mif\u001b[0m \u001b[0misintlike\u001b[0m\u001b[1;33m(\u001b[0m\u001b[0mrow\u001b[0m\u001b[1;33m)\u001b[0m\u001b[1;33m:\u001b[0m\u001b[1;33m\u001b[0m\u001b[1;33m\u001b[0m\u001b[0m\n\u001b[0m\u001b[0;32m    133\u001b[0m             \u001b[0mrow\u001b[0m \u001b[1;33m=\u001b[0m \u001b[0mint\u001b[0m\u001b[1;33m(\u001b[0m\u001b[0mrow\u001b[0m\u001b[1;33m)\u001b[0m\u001b[1;33m\u001b[0m\u001b[1;33m\u001b[0m\u001b[0m\n\u001b[0;32m    134\u001b[0m             \u001b[1;32mif\u001b[0m \u001b[0mrow\u001b[0m \u001b[1;33m<\u001b[0m \u001b[1;33m-\u001b[0m\u001b[0mM\u001b[0m \u001b[1;32mor\u001b[0m \u001b[0mrow\u001b[0m \u001b[1;33m>=\u001b[0m \u001b[0mM\u001b[0m\u001b[1;33m:\u001b[0m\u001b[1;33m\u001b[0m\u001b[1;33m\u001b[0m\u001b[0m\n",
      "\u001b[1;32mc:\\users\\laurent\\appdata\\local\\programs\\python\\python38-32\\lib\\site-packages\\scipy\\sparse\\sputils.py\u001b[0m in \u001b[0;36misintlike\u001b[1;34m(x)\u001b[0m\n\u001b[0;32m    192\u001b[0m     \u001b[1;31m# Fast-path check to eliminate non-scalar values. operator.index would\u001b[0m\u001b[1;33m\u001b[0m\u001b[1;33m\u001b[0m\u001b[1;33m\u001b[0m\u001b[0m\n\u001b[0;32m    193\u001b[0m     \u001b[1;31m# catch this case too, but the exception catching is slow.\u001b[0m\u001b[1;33m\u001b[0m\u001b[1;33m\u001b[0m\u001b[1;33m\u001b[0m\u001b[0m\n\u001b[1;32m--> 194\u001b[1;33m     \u001b[1;32mif\u001b[0m \u001b[0mnp\u001b[0m\u001b[1;33m.\u001b[0m\u001b[0mndim\u001b[0m\u001b[1;33m(\u001b[0m\u001b[0mx\u001b[0m\u001b[1;33m)\u001b[0m \u001b[1;33m!=\u001b[0m \u001b[1;36m0\u001b[0m\u001b[1;33m:\u001b[0m\u001b[1;33m\u001b[0m\u001b[1;33m\u001b[0m\u001b[0m\n\u001b[0m\u001b[0;32m    195\u001b[0m         \u001b[1;32mreturn\u001b[0m \u001b[1;32mFalse\u001b[0m\u001b[1;33m\u001b[0m\u001b[1;33m\u001b[0m\u001b[0m\n\u001b[0;32m    196\u001b[0m     \u001b[1;32mtry\u001b[0m\u001b[1;33m:\u001b[0m\u001b[1;33m\u001b[0m\u001b[1;33m\u001b[0m\u001b[0m\n",
      "\u001b[1;32m<__array_function__ internals>\u001b[0m in \u001b[0;36mndim\u001b[1;34m(*args, **kwargs)\u001b[0m\n",
      "\u001b[1;32mc:\\users\\laurent\\appdata\\local\\programs\\python\\python38-32\\lib\\site-packages\\numpy\\core\\fromnumeric.py\u001b[0m in \u001b[0;36m_ndim_dispatcher\u001b[1;34m(a)\u001b[0m\n\u001b[0;32m   3032\u001b[0m \u001b[1;33m\u001b[0m\u001b[0m\n\u001b[0;32m   3033\u001b[0m \u001b[1;32mdef\u001b[0m \u001b[0m_ndim_dispatcher\u001b[0m\u001b[1;33m(\u001b[0m\u001b[0ma\u001b[0m\u001b[1;33m)\u001b[0m\u001b[1;33m:\u001b[0m\u001b[1;33m\u001b[0m\u001b[1;33m\u001b[0m\u001b[0m\n\u001b[1;32m-> 3034\u001b[1;33m     \u001b[1;32mreturn\u001b[0m \u001b[1;33m(\u001b[0m\u001b[0ma\u001b[0m\u001b[1;33m,\u001b[0m\u001b[1;33m)\u001b[0m\u001b[1;33m\u001b[0m\u001b[1;33m\u001b[0m\u001b[0m\n\u001b[0m\u001b[0;32m   3035\u001b[0m \u001b[1;33m\u001b[0m\u001b[0m\n\u001b[0;32m   3036\u001b[0m \u001b[1;33m\u001b[0m\u001b[0m\n",
      "\u001b[1;31mKeyboardInterrupt\u001b[0m: "
     ]
    }
   ],
   "source": [
    "%%time\n",
    "A = dok_matrix( (len(words),len(boards)), dtype=np.bool )\n",
    "for (i,word) in enumerate(words):\n",
    "    for (j,board) in enumerate(boards):\n",
    "        if islegal(word,board):\n",
    "            A[i,j] = True\n"
   ]
  },
  {
   "cell_type": "code",
   "execution_count": 19,
   "metadata": {},
   "outputs": [
    {
     "name": "stdout",
     "output_type": "stream",
     "text": [
      "Wall time: 8.34 s\n"
     ]
    }
   ],
   "source": [
    "%%time\n",
    "A = dok_matrix( (len(words),len(boards)), dtype=np.bool )\n",
    "for (j,board) in enumerate(boards):\n",
    "    for (i,word) in enumerate(words):\n",
    "        if islegal(word,board):\n",
    "            A[i,j] = True"
   ]
  },
  {
   "cell_type": "markdown",
   "metadata": {},
   "source": [
    "### Big computation: score all the boards!"
   ]
  },
  {
   "cell_type": "code",
   "execution_count": null,
   "metadata": {},
   "outputs": [],
   "source": [
    "%%time\n",
    "board_scores = [ (board,score_board(board)) for board in boards ]"
   ]
  },
  {
   "cell_type": "code",
   "execution_count": 19,
   "metadata": {},
   "outputs": [
    {
     "name": "stdout",
     "output_type": "stream",
     "text": [
      "The best board (that may contain S) is: eainrst with score: 8681\n",
      "The best board (that does not contain S) is: raegint with score: 3898\n",
      "The worst board is: xcinopr with score: 14\n"
     ]
    }
   ],
   "source": [
    "# sort all the boards based on their score\n",
    "board_scores.sort(key = lambda x: x[1])\n",
    "\n",
    "print(\"The best board (that may contain S) is:\", board_scores[-1][0], \"with score:\", board_scores[-1][1])\n",
    "\n",
    "for (board,score) in board_scores[::-1]:\n",
    "    if 's' not in board:\n",
    "        print(\"The best board (that does not contain S) is:\", board, \"with score:\", score)\n",
    "        break\n",
    "\n",
    "print(\"The worst board is:\", board_scores[0][0], \"with score:\", board_scores[0][1])"
   ]
  },
  {
   "cell_type": "code",
   "execution_count": 36,
   "metadata": {},
   "outputs": [],
   "source": [
    "# get stats for a given word\n",
    "def get_stats(board):\n",
    "    # extract words from this winner\n",
    "    wrds = [ (word,wscorelook[word]) for word in wlistc[board[0]] if islegal(word,board) ]\n",
    "    wrds.sort(key=lambda x: x[1], reverse=True)\n",
    "    pcount = len( [word for word,score in wrds if len(set(word))==7] )\n",
    "    print(\"The board\", board, \"can make\", len(wrds), \"valid words, including\", pcount, \"pangrams.\")\n",
    "    print(\"Total score is\", sum([score for word,score in wrds]), \"and the top 5 words are:\")\n",
    "    print(wrds[:5])"
   ]
  },
  {
   "cell_type": "code",
   "execution_count": 37,
   "metadata": {},
   "outputs": [
    {
     "name": "stdout",
     "output_type": "stream",
     "text": [
      "The board eainrst can make 1179 valid words, including 86 pangrams.\n",
      "Total score is 8681 and the top 5 words are:\n",
      "[('entertainers', 19), ('interstrains', 19), ('straitnesses', 19), ('intenerates', 18), ('interstates', 18)]\n"
     ]
    }
   ],
   "source": [
    "get_stats('eainrst')"
   ]
  },
  {
   "cell_type": "code",
   "execution_count": 38,
   "metadata": {},
   "outputs": [
    {
     "name": "stdout",
     "output_type": "stream",
     "text": [
      "The board raegint can make 537 valid words, including 50 pangrams.\n",
      "Total score is 3898 and the top 5 words are:\n",
      "[('reaggregating', 20), ('reintegrating', 20), ('entertaining', 19), ('intenerating', 19), ('regenerating', 19)]\n"
     ]
    }
   ],
   "source": [
    "get_stats('raegint')"
   ]
  },
  {
   "cell_type": "code",
   "execution_count": 39,
   "metadata": {},
   "outputs": [
    {
     "name": "stdout",
     "output_type": "stream",
     "text": [
      "The board xcinopr can make 1 valid words, including 1 pangrams.\n",
      "Total score is 14 and the top 5 words are:\n",
      "[('princox', 14)]\n"
     ]
    }
   ],
   "source": [
    "get_stats('xcinopr')"
   ]
  },
  {
   "cell_type": "code",
   "execution_count": null,
   "metadata": {},
   "outputs": [],
   "source": []
  },
  {
   "cell_type": "code",
   "execution_count": null,
   "metadata": {},
   "outputs": [],
   "source": []
  },
  {
   "cell_type": "markdown",
   "metadata": {},
   "source": [
    "# Hector's solution"
   ]
  },
  {
   "cell_type": "code",
   "execution_count": 1,
   "metadata": {},
   "outputs": [],
   "source": [
    "# read full word list\n",
    "with open('enable1.txt', 'r') as f:\n",
    "    words = f.read().splitlines()\n",
    "\n",
    "letters = 'abcdefghijklmnopqrstuvwxyz'\n",
    "\n",
    "# letters to be removed --- remove them from the alphabet and from the wordlist\n",
    "remletts = 's'\n",
    "letters = ''.join(set(letters).difference(set(remletts)))\n",
    "for lett in remletts:\n",
    "    words = [word for word in words if lett not in word]\n",
    "    \n",
    "# keep only the words that have length at least 4 and have at most 7 distinct letters\n",
    "words = [ word for word in words if len(word) >= 4 and len(set(word)) <= 7 ]"
   ]
  },
  {
   "cell_type": "code",
   "execution_count": 2,
   "metadata": {},
   "outputs": [],
   "source": [
    "def score_word(word):\n",
    "    wordlen = len(word)\n",
    "    if wordlen == 4:\n",
    "        return 1\n",
    "    if len(set(word)) == 7:  # if it's a pangram, add 7 more points\n",
    "        return wordlen + 7\n",
    "    return wordlen\n",
    "\n",
    "# pre-compute score of every word\n",
    "word_scores = { word: score_word(word) for word in words }"
   ]
  },
  {
   "cell_type": "code",
   "execution_count": 3,
   "metadata": {},
   "outputs": [],
   "source": [
    "# set of seven-letter tuples that can produce pangrams\n",
    "pansets = set( [ tuple(sorted(list(set(word)))) for word in words if len(set(word)) == 7 ] )\n",
    "\n",
    "# for each set of seven letters, store: letterset and wordlist\n",
    "letterClusters = [ {'letterset': set(pan), 'wordlist': [] }  for pan in pansets ]"
   ]
  },
  {
   "cell_type": "code",
   "execution_count": 4,
   "metadata": {},
   "outputs": [
    {
     "name": "stdout",
     "output_type": "stream",
     "text": [
      "Wall time: 1min 49s\n"
     ]
    }
   ],
   "source": [
    "%%time\n",
    "# compute the word list for each set of seven letters\n",
    "# iterate through WORDS FIRST then through sets of seven letters\n",
    "\n",
    "for word in words:\n",
    "    letters = set(word)\n",
    "    for cluster in letterClusters:\n",
    "        if letters.issubset(cluster['letterset']):\n",
    "                cluster['wordlist'].append(word)"
   ]
  },
  {
   "cell_type": "code",
   "execution_count": 5,
   "metadata": {},
   "outputs": [],
   "source": [
    "# compute the score of a cluster using a particular center letter\n",
    "def score_cluster(cluster,centerLetter):\n",
    "    return sum( [word_scores[word] for word in cluster['wordlist'] if centerLetter in word] )\n"
   ]
  },
  {
   "cell_type": "code",
   "execution_count": 7,
   "metadata": {},
   "outputs": [
    {
     "name": "stdout",
     "output_type": "stream",
     "text": [
      "the 5 best scores are:\n"
     ]
    },
    {
     "data": {
      "text/plain": [
       "[('raegint', 3898),\n",
       " ('naegirt', 3782),\n",
       " ('eaginrt', 3769),\n",
       " ('eadinrt', 3672),\n",
       " ('taeginr', 3421)]"
      ]
     },
     "execution_count": 7,
     "metadata": {},
     "output_type": "execute_result"
    }
   ],
   "source": [
    "# compute score of all clusters and sort the list\n",
    "scores = []\n",
    "for cluster in letterClusters:\n",
    "    for i in range(7):\n",
    "        s = ''.join(sorted(list(cluster['letterset'])))\n",
    "        scores.append( (s[i]+s[:i]+s[i+1:], score_cluster(cluster,s[i])) )\n",
    "\n",
    "scores.sort(key = lambda x: x[1], reverse=True)\n",
    "\n",
    "print(\"the 5 best scores are:\")\n",
    "scores[:5]"
   ]
  },
  {
   "cell_type": "code",
   "execution_count": null,
   "metadata": {},
   "outputs": [],
   "source": []
  },
  {
   "cell_type": "markdown",
   "metadata": {},
   "source": [
    "## Actually Hector's solution"
   ]
  },
  {
   "cell_type": "code",
   "execution_count": 5,
   "metadata": {},
   "outputs": [
    {
     "ename": "KeyboardInterrupt",
     "evalue": "",
     "output_type": "error",
     "traceback": [
      "\u001b[1;31m---------------------------------------------------------------------------\u001b[0m",
      "\u001b[1;31mKeyboardInterrupt\u001b[0m                         Traceback (most recent call last)",
      "\u001b[1;32m<ipython-input-5-70e2c8a1fd3a>\u001b[0m in \u001b[0;36m<module>\u001b[1;34m\u001b[0m\n\u001b[0;32m     20\u001b[0m \u001b[1;32mfor\u001b[0m \u001b[0mword\u001b[0m \u001b[1;32min\u001b[0m \u001b[0mwordsList\u001b[0m\u001b[1;33m:\u001b[0m\u001b[1;33m\u001b[0m\u001b[1;33m\u001b[0m\u001b[0m\n\u001b[0;32m     21\u001b[0m     \u001b[0mletters\u001b[0m \u001b[1;33m=\u001b[0m \u001b[0mset\u001b[0m\u001b[1;33m(\u001b[0m\u001b[0mword\u001b[0m\u001b[1;33m)\u001b[0m\u001b[1;33m\u001b[0m\u001b[1;33m\u001b[0m\u001b[0m\n\u001b[1;32m---> 22\u001b[1;33m     \u001b[1;32mfor\u001b[0m \u001b[0mcluster\u001b[0m \u001b[1;32min\u001b[0m \u001b[0mletterClusters\u001b[0m\u001b[1;33m:\u001b[0m\u001b[1;33m\u001b[0m\u001b[1;33m\u001b[0m\u001b[0m\n\u001b[0m\u001b[0;32m     23\u001b[0m         \u001b[1;32mif\u001b[0m \u001b[0mletters\u001b[0m\u001b[1;33m.\u001b[0m\u001b[0missubset\u001b[0m\u001b[1;33m(\u001b[0m\u001b[0mcluster\u001b[0m\u001b[1;33m[\u001b[0m\u001b[1;34m'letterSet'\u001b[0m\u001b[1;33m]\u001b[0m\u001b[1;33m)\u001b[0m\u001b[1;33m:\u001b[0m\u001b[1;33m\u001b[0m\u001b[1;33m\u001b[0m\u001b[0m\n\u001b[0;32m     24\u001b[0m             \u001b[0mcluster\u001b[0m\u001b[1;33m[\u001b[0m\u001b[1;34m'wordList'\u001b[0m\u001b[1;33m]\u001b[0m\u001b[1;33m.\u001b[0m\u001b[0mappend\u001b[0m\u001b[1;33m(\u001b[0m\u001b[0mword\u001b[0m\u001b[1;33m)\u001b[0m\u001b[1;33m\u001b[0m\u001b[1;33m\u001b[0m\u001b[0m\n",
      "\u001b[1;31mKeyboardInterrupt\u001b[0m: "
     ]
    }
   ],
   "source": [
    "%%time\n",
    "\n",
    "# Return sorted tuple of distinct letters in the word\n",
    "def lettersIn(word):\n",
    "    letters = list(set(word))\n",
    "    letters.sort()\n",
    "    return tuple(letters)\n",
    "\n",
    "wordsList = words\n",
    "\n",
    "# Find all words with exactly 7 distinct letters; these can be pangrams, and every\n",
    "# bee uses such a set of letters.\n",
    "letterClusters = []\n",
    "used = []\n",
    "for word in wordsList:\n",
    "    letters = lettersIn(word)\n",
    "    if len(letters) == 7 and not letters in used:\n",
    "        letterClusters.append( { 'letterTuple': letters, 'letterSet': set(letters), 'wordList': [] } )\n",
    "        used.append(letters)\n",
    "\n",
    "# This takes the bulk of run time. Looping over words first saves a bunch of 'set' calls.\n",
    "for word in wordsList:\n",
    "    letters = set(word)\n",
    "    for cluster in letterClusters:\n",
    "        if letters.issubset(cluster['letterSet']):\n",
    "            cluster['wordList'].append(word)\n",
    "\n",
    "# Score a bee: words are worth their length plus 7 for a pangram\n",
    "def score(cluster,centerLetter):\n",
    "    s = 0\n",
    "    for word in cluster['wordList']:\n",
    "        if centerLetter in word:\n",
    "            if len(word) == 4:\n",
    "                s+= 1\n",
    "            else:\n",
    "                s += len(word)\n",
    "            if len(set(word)) == 7:\n",
    "                s += 7\n",
    "    return s\n",
    "\n",
    "# Score all bees, i.e., all pangram 7-tuples and all choices of center letter\n",
    "highestSoFar = {'score':0}\n",
    "for cluster in letterClusters:\n",
    "    for centerLetter in cluster['letterTuple']:\n",
    "        s = score(cluster,centerLetter) \n",
    "        if s > highestSoFar['score']:\n",
    "            highestSoFar = {'score': s, 'letterTuple': cluster['letterTuple'], 'centerLetter': centerLetter, 'wordList': cluster['wordList']}\n",
    "\n",
    "# Report results\n",
    "print('Maximum score is', highestSoFar['score'], 'for the bee [(letters), center letter]:')\n",
    "print(highestSoFar['letterTuple'], ',', highestSoFar['centerLetter'])\n",
    "words = [ word for word in highestSoFar['wordList'] if highestSoFar['centerLetter'] in word ]\n",
    "print('This bee has', len(words), 'words:')\n",
    "for i in range(len(words)):\n",
    "    if len(set(words[i])) == 7:\n",
    "        print(words[i].upper(), \"\")\n",
    "    else:\n",
    "        print(words[i], \"\")\n",
    "    if ((i+1)/7.0).is_integer():\n",
    "        print(\"\")\n",
    "print(\"\")"
   ]
  },
  {
   "cell_type": "code",
   "execution_count": null,
   "metadata": {},
   "outputs": [],
   "source": []
  }
 ],
 "metadata": {
  "kernelspec": {
   "display_name": "Python 3",
   "language": "python",
   "name": "python3"
  },
  "language_info": {
   "codemirror_mode": {
    "name": "ipython",
    "version": 3
   },
   "file_extension": ".py",
   "mimetype": "text/x-python",
   "name": "python",
   "nbconvert_exporter": "python",
   "pygments_lexer": "ipython3",
   "version": "3.8.1"
  }
 },
 "nbformat": 4,
 "nbformat_minor": 4
}
