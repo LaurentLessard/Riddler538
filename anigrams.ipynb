{
 "cells": [
  {
   "cell_type": "markdown",
   "id": "354056d1-7f47-461a-9c53-f06e304351a8",
   "metadata": {},
   "source": [
    "# Anigrams\n",
    "\n",
    "#### Riddler Classic for Friday September 16, 2022. Solution by [Laurent Lessard](https://laurentlessard.com)\n",
    "\n",
    "This week's [Riddler Classic](https://fivethirtyeight.com/features/can-you-build-the-biggest-anigram/) is a particular game of dice.\n",
    "\n",
    "> If you like Wordle, then you might also enjoy Anigrams, a game created by Friend-of-the-Riddler™ Adam Wagner.\n",
    "> In the game of Anigrams, you unscramble successively larger, nested collections of letters to create a valid “chain” of six English words between four and nine letters in length.\n",
    "> For example, a chain of five words (sadly, less than the six needed for a valid game of Anigrams) can be constructed using the following sequence, with each term after the first including one additional letter than the previous term:\n",
    ">\n",
    "> - DEIR (which unscrambles to make the words DIRE, IRED or RIDE)\n",
    "> - DEIRD (DRIED or REDID)\n",
    "> - DEIRDL (DIRLED, DREIDL or RIDDLE)\n",
    "> - DEIRDLR (RIDDLER)\n",
    "> - DEIRDLRS (RIDDLERS)\n",
    "> \n",
    "> What is the longest chain of such nested anagrams you can create, starting with four letters?\n",
    ">\n",
    "> For specificity, all valid words must come from Peter Norvig’s [world list](https://norvig.com/ngrams/enable1.txt) (a list we’ve used [previously](https://fivethirtyeight.com/features/can-you-solve-the-vexing-vexillology/) here at The Riddler).\n",
    "\n",
    "---"
   ]
  },
  {
   "cell_type": "code",
   "execution_count": 80,
   "id": "8883114e-fe23-45cd-8984-88b9eac63c10",
   "metadata": {},
   "outputs": [],
   "source": [
    "import time"
   ]
  },
  {
   "cell_type": "code",
   "execution_count": 51,
   "id": "c53e3e25-4517-458f-8ec0-0d552b00dbed",
   "metadata": {},
   "outputs": [
    {
     "name": "stdout",
     "output_type": "stream",
     "text": [
      "172820 words in total\n",
      "171752 words of length at least 4\n",
      "155689 equivalences classes\n",
      "the longest word is aaaacdeeeeeeehiilmnnrsttttty and it has has length 28\n",
      "Length  4 : 2674 total words\n",
      "Length  5 : 6303 total words\n",
      "Length  6 : 11958 total words\n",
      "Length  7 : 19424 total words\n",
      "Length  8 : 25434 total words\n",
      "Length  9 : 23396 total words\n",
      "Length 10 : 19708 total words\n",
      "Length 11 : 15242 total words\n",
      "Length 12 : 11231 total words\n",
      "Length 13 : 7777 total words\n",
      "Length 14 : 5102 total words\n",
      "Length 15 : 3182 total words\n",
      "Length 16 : 1935 total words\n",
      "Length 17 : 1123 total words\n",
      "Length 18 : 592 total words\n",
      "Length 19 : 329 total words\n",
      "Length 20 : 160 total words\n",
      "Length 21 : 62 total words\n",
      "Length 22 : 30 total words\n",
      "Length 23 : 13 total words\n",
      "Length 24 : 9 total words\n",
      "Length 25 : 2 total words\n",
      "Length 26 : 0 total words\n",
      "Length 27 : 2 total words\n",
      "Length 28 : 1 total words\n"
     ]
    }
   ],
   "source": [
    "# read full word list\n",
    "with open('enable1.txt', 'r') as f:\n",
    "    wordlist = f.read().splitlines()\n",
    "print(len(wordlist), 'words in total')\n",
    "    \n",
    "# keep only the words that have length at least 4\n",
    "wordlist = [word for word in wordlist if len(word) >= 4]\n",
    "print(len(wordlist), 'words of length at least 4')\n",
    "\n",
    "# sort each word alphabetically and remove duplicates\n",
    "wordset = { ''.join(sorted(word)) for word in wordlist }\n",
    "print(len(wordset), 'equivalences classes')\n",
    "\n",
    "# find length of longest word\n",
    "longest_word = max(wordset,key=lambda w: len(w))\n",
    "MAX_LENGTH = len(longest_word)\n",
    "print('the longest word is', longest_word, 'and it has has length', MAX_LENGTH)\n",
    "\n",
    "# split the words by length into lists\n",
    "wordlists = []\n",
    "for length in range(4, MAX_LENGTH+1):\n",
    "    wordlists.append( [ word for word in wordset if len(word) == length ] )\n",
    "for wlist in wordlists:\n",
    "    wlist.sort()\n",
    "    \n",
    "# print out word lengths\n",
    "for length in range(4, MAX_LENGTH+1):\n",
    "    print('Length', '{:2d}'.format(length), ':', len(wordlists[length-4]), 'total words')"
   ]
  },
  {
   "cell_type": "code",
   "execution_count": 91,
   "id": "e4ecf9cb-7afd-479c-b46d-e6f76b8f6959",
   "metadata": {},
   "outputs": [],
   "source": [
    "# Since there are no words of length 26, it is impossible to have a chain any longer than 25\n",
    "# so we can restrict our attention to words that are length 25 or less.\n",
    "\n",
    "'''\n",
    "This function returns true if the words w1 and w2 (len(w1)+1 == len(w2)) are valid neighbors\n",
    "in a chain; i.e. w2 has the same letters as w1 but contains one extra letter.\n",
    "'''\n",
    "def isconnected(w1, w2):\n",
    "    i = 0\n",
    "    while i < len(w1):\n",
    "        if w1[i] == w2[i]:\n",
    "            i += 1\n",
    "        else:\n",
    "            return w1[i:] == w2[i+1:]\n",
    "    return True"
   ]
  },
  {
   "cell_type": "code",
   "execution_count": 92,
   "id": "1c34aa31-62b1-4d29-9b43-4afa56c12bba",
   "metadata": {},
   "outputs": [
    {
     "name": "stdout",
     "output_type": "stream",
     "text": [
      "Length 4 --> 5 :  7.23 seconds\n",
      "Length 5 --> 6 :  36.7 seconds\n",
      "Length 6 --> 7 :  110 seconds\n",
      "Length 7 --> 8 :  235 seconds\n",
      "Length 8 --> 9 :  280 seconds\n",
      "Length 9 --> 10 :  232 seconds\n",
      "Length 10 --> 11 :  162 seconds\n",
      "Length 11 --> 12 :  82.7 seconds\n",
      "Length 12 --> 13 :  43.4 seconds\n",
      "Length 13 --> 14 :  19.8 seconds\n",
      "Length 14 --> 15 :  8.1 seconds\n",
      "Length 15 --> 16 :  3.14 seconds\n",
      "Length 16 --> 17 :  1.12 seconds\n",
      "Length 17 --> 18 :  0.344 seconds\n",
      "Length 18 --> 19 :  0.102 seconds\n",
      "Length 19 --> 20 :  0.029 seconds\n",
      "Length 20 --> 21 :  0.00599 seconds\n",
      "Length 21 --> 22 :  0.000994 seconds\n",
      "Length 22 --> 23 :  0 seconds\n",
      "Length 23 --> 24 :  0 seconds\n"
     ]
    }
   ],
   "source": [
    "graph = {}\n",
    "\n",
    "for i in range(20):\n",
    "    start_time = time.time()\n",
    "    for w1 in wordlists[i]:\n",
    "        graph[w1] = []\n",
    "        for w2 in wordlists[i+1]:\n",
    "            if isconnected(w1,w2):\n",
    "                graph[w1].append(w2)\n",
    "\n",
    "    end_time = time.time()\n",
    "    print('Length', i+4, '-->', i+5, ': ', '{0:.3g}'.format(end_time-start_time), 'seconds')"
   ]
  },
  {
   "cell_type": "code",
   "execution_count": 108,
   "id": "ed069bf9-3c4c-4fd0-bb9b-4a66d2ecc190",
   "metadata": {},
   "outputs": [
    {
     "name": "stdout",
     "output_type": "stream",
     "text": [
      "Length 4 :  2674 words remaining\n",
      "Length 5 :  5872 words remaining\n",
      "Length 6 :  10047 words remaining\n",
      "Length 7 :  14827 words remaining\n",
      "Length 8 :  16868 words remaining\n",
      "Length 9 :  13114 words remaining\n",
      "Length 10 :  7808 words remaining\n",
      "Length 11 :  3678 words remaining\n",
      "Length 12 :  1430 words remaining\n",
      "Length 13 :  441 words remaining\n",
      "Length 14 :  126 words remaining\n",
      "Length 15 :  26 words remaining\n",
      "Length 16 :  2 words remaining\n",
      "Length 17 :  0 words remaining\n",
      "Length 18 :  0 words remaining\n",
      "Length 19 :  0 words remaining\n",
      "Length 20 :  0 words remaining\n",
      "Length 21 :  0 words remaining\n",
      "Length 22 :  0 words remaining\n",
      "Length 23 :  0 words remaining\n"
     ]
    }
   ],
   "source": [
    "# initialize with all words of length 4\n",
    "# only keep those that are reachable as we progress\n",
    "pool_levels = [wordlists[0]]\n",
    "for i in range(20):\n",
    "    pool_levels.append( set().union(*[ graph[w] for w in pool_levels[i] ]) )\n",
    "    print('Length', i+4, ': ', len(pool_levels[i]), 'words remaining')"
   ]
  },
  {
   "cell_type": "code",
   "execution_count": 115,
   "id": "9eff8fc9-8741-4722-8019-cf22c0f078f9",
   "metadata": {},
   "outputs": [],
   "source": [
    "'''\n",
    "given a sorted string, return a list of words that could produce that string\n",
    "'''\n",
    "def unsort_word(wstr):\n",
    "    return [ word for word in wordlist if ''.join(sorted(word)) == wstr ]"
   ]
  },
  {
   "cell_type": "code",
   "execution_count": 117,
   "id": "c57fbcfb-ecb8-4ef0-9eaf-734df2072a15",
   "metadata": {},
   "outputs": [
    {
     "data": {
      "text/plain": [
       "[['underestimations'], ['indeterminations']]"
      ]
     },
     "execution_count": 117,
     "metadata": {},
     "output_type": "execute_result"
    }
   ],
   "source": [
    "# these are the possible ending words\n",
    "[ unsort_word(wstr) for wstr in pool_levels[12] ]"
   ]
  },
  {
   "cell_type": "code",
   "execution_count": 168,
   "id": "6a0b0d52-3e4e-41ca-bb67-3655358c88ed",
   "metadata": {},
   "outputs": [
    {
     "name": "stdout",
     "output_type": "stream",
     "text": [
      "['einn', 'aeinn', 'aeinnt', 'aeinnst', 'aeinnost', 'aeiinnost', 'aeiimnnost', 'aeiimnnorst', 'aeiimnnorstt', 'adeiimnnorstt', 'adeeiimnnorstt', 'adeeiimnnorsttu', 'adeeiimnnorssttu']\n"
     ]
    }
   ],
   "source": [
    "# reconstruct the optimal chain\n",
    "optimal_chain = [ list(pool_levels[12])[0] ]\n",
    "\n",
    "for i in range(12):\n",
    "    optimal_chain.append(  [ word for word in pool_levels[12-i-1] if isconnected(word,optimal_chain[i]) ][0] )\n",
    "\n",
    "optimal_chain = optimal_chain[::-1]\n",
    "print(optimal_chain)"
   ]
  },
  {
   "cell_type": "code",
   "execution_count": 169,
   "id": "fe32b002-d72f-420b-b7c4-c8ae0b7c5d93",
   "metadata": {},
   "outputs": [],
   "source": [
    "# reverse order and put in correct format\n",
    "'''\n",
    "find extra letter present in second word\n",
    "'''\n",
    "def get_extra_letter(w1, w2):\n",
    "    L = len(w1)\n",
    "    for i in range(L):\n",
    "        if w1[i] != w2[i]:\n",
    "            return w2[i]\n",
    "    return w2[-1]"
   ]
  },
  {
   "cell_type": "code",
   "execution_count": 170,
   "id": "f065479d-6749-4315-9366-b89731126d12",
   "metadata": {},
   "outputs": [
    {
     "name": "stdout",
     "output_type": "stream",
     "text": [
      "['a', 't', 's', 'o', 'i', 'm', 'r', 't', 'd', 'e', 'u', 's']\n"
     ]
    }
   ],
   "source": [
    "# get sequence of \"extra\" letters added at each step\n",
    "letter_sequence = [ get_extra_letter( optimal_chain[i], optimal_chain[i+1] ) for i in range(len(optimal_chain)-1) ]\n",
    "print(letter_sequence)"
   ]
  },
  {
   "cell_type": "code",
   "execution_count": 171,
   "id": "54d861cc-fe58-4cfc-9972-5a1e25d9e189",
   "metadata": {},
   "outputs": [
    {
     "name": "stdout",
     "output_type": "stream",
     "text": [
      "['einn', 'einna', 'einnat', 'einnats', 'einnatso', 'einnatsoi', 'einnatsoim', 'einnatsoimr', 'einnatsoimrt', 'einnatsoimrtd', 'einnatsoimrtde', 'einnatsoimrtdeu', 'einnatsoimrtdeus']\n"
     ]
    }
   ],
   "source": [
    "# print the final sequence along with anagrammed words\n",
    "final_chain = [optimal_chain[0]]\n",
    "for lett in letter_sequence:\n",
    "    final_chain = final_chain + [final_chain[-1] + lett]\n",
    "    \n",
    "print(final_chain)"
   ]
  },
  {
   "cell_type": "code",
   "execution_count": 172,
   "id": "906c84f7-c1ec-405a-b7af-7917920e670d",
   "metadata": {},
   "outputs": [
    {
     "name": "stdout",
     "output_type": "stream",
     "text": [
      "EINN : ['nine']\n",
      "EINNA : ['inane']\n",
      "EINNAT : ['innate']\n",
      "EINNATS : ['inanest', 'stanine']\n",
      "EINNATSO : ['enations', 'sonatine']\n",
      "EINNATSOI : ['antinoise']\n",
      "EINNATSOIM : ['antimonies', 'antinomies']\n",
      "EINNATSOIMR : ['inseminator', 'nitrosamine']\n",
      "EINNATSOIMRT : ['terminations']\n",
      "EINNATSOIMRTD : ['antimodernist']\n",
      "EINNATSOIMRTDE : ['determinations']\n",
      "EINNATSOIMRTDEU : ['underestimation']\n",
      "EINNATSOIMRTDEUS : ['underestimations']\n"
     ]
    }
   ],
   "source": [
    "# print formatted list for the solution:\n",
    "for word in final_chain:\n",
    "    print(word.upper(), ':', unsort_word(''.join(sorted(word))) )"
   ]
  },
  {
   "cell_type": "code",
   "execution_count": null,
   "id": "ee24fe1a-0105-470a-a566-2ff8458e4e24",
   "metadata": {},
   "outputs": [],
   "source": []
  }
 ],
 "metadata": {
  "kernelspec": {
   "display_name": "Python 3",
   "language": "python",
   "name": "python3"
  },
  "language_info": {
   "codemirror_mode": {
    "name": "ipython",
    "version": 3
   },
   "file_extension": ".py",
   "mimetype": "text/x-python",
   "name": "python",
   "nbconvert_exporter": "python",
   "pygments_lexer": "ipython3",
   "version": "3.8.8"
  }
 },
 "nbformat": 4,
 "nbformat_minor": 5
}
