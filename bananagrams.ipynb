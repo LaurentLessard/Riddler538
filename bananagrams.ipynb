{
 "cells": [
  {
   "cell_type": "markdown",
   "metadata": {},
   "source": [
    "# **Bananagrams**\n",
    "## [Riddler Classic, Mar 1, 2019](https://fivethirtyeight.com/features/youre-home-alone-you-can-buy-zillions-of-video-game-cigarettes-or-beat-yourself-at-bananagrams/)\n",
    "\n",
    "### solution by [Laurent Lessard](https://laurentlessard.com)\n",
    "\n",
    "---"
   ]
  },
  {
   "cell_type": "markdown",
   "metadata": {},
   "source": [
    "## Some preliminaries\n",
    "\n",
    "Here I tabulate the tile distribution and collect the list of admissible words. I used the [ENABLE word list](https://norvig.com/ngrams/enable1.txt), as instructed in the problem statement."
   ]
  },
  {
   "cell_type": "code",
   "execution_count": 1,
   "metadata": {},
   "outputs": [],
   "source": [
    "import numpy as np\n",
    "import pandas as pd\n",
    "from gurobipy import *"
   ]
  },
  {
   "cell_type": "code",
   "execution_count": 2,
   "metadata": {},
   "outputs": [
    {
     "name": "stdout",
     "output_type": "stream",
     "text": [
      "The word list contains 172820 words.\n"
     ]
    }
   ],
   "source": [
    "# list of all tiles in Bananagrams\n",
    "tiles = 2*['J','K','Q','X','Z'] + 3*['B','C','F','H','M','P','V','W','Y'] + 4*['G'] + 5*['L'] + \\\n",
    "        6*['D','S','U'] + 8*['N'] + 9*['T','R'] + 11*['O'] + 12*['I'] + 13*['A'] + 18*['E']\n",
    "\n",
    "# create array of letter frequency counts\n",
    "alphabet = 'abcdefghijklmnopqrstuvwxyz'\n",
    "L = len(alphabet)\n",
    "def letterhist(word):\n",
    "    return np.array([word.count(s) for s in alphabet])\n",
    "\n",
    "lettercounts = letterhist(''.join(tiles).lower())\n",
    "\n",
    "# assemble word list and sort it by word length. There are N words total\n",
    "f = open(\"enable1.txt\",\"r\")\n",
    "wordlist = sorted( [ w[:-1] for w in f ], key=len, reverse=True )\n",
    "N = len(wordlist)\n",
    "print('The word list contains', N, 'words.')\n",
    "\n",
    "# create Nx26 array of letter frequencies\n",
    "A = np.array( [letterhist(w) for w in wordlist] )"
   ]
  },
  {
   "cell_type": "markdown",
   "metadata": {},
   "source": [
    "## First problem: Use fewest possible words\n",
    "\n",
    "I solved the problem by modeling it as a mixed-integer program (it's a variant of a knapsack problem). Each word contributes to the total tally of letters, and we are seeking a combination of words that hits our letter quotas so that we use up all the letters. The catch is that the words must overlap, so some letters should get double-counted. The number of overlaps must be at least (number of words minus one), and no letter can be overlapped more than twice its total tally."
   ]
  },
  {
   "cell_type": "code",
   "execution_count": 4,
   "metadata": {},
   "outputs": [
    {
     "name": "stdout",
     "output_type": "stream",
     "text": [
      "Optimize a model with 27 rows, 172820 columns and 1424015 nonzeros\n",
      "Variable types: 0 continuous, 172820 integer (0 binary)\n",
      "Coefficient statistics:\n",
      "  Matrix range     [1e+00, 3e+01]\n",
      "  Objective range  [1e+00, 1e+00]\n",
      "  Bounds range     [0e+00, 0e+00]\n",
      "  RHS range        [2e+00, 1e+02]\n",
      "Presolve removed 0 rows and 16348 columns\n",
      "Presolve time: 3.08s\n",
      "Presolved: 27 rows, 156472 columns, 1308797 nonzeros\n",
      "Variable types: 0 continuous, 156472 integer (0 binary)\n",
      "\n",
      "Starting sifting (using dual simplex for sub-problems)...\n",
      "\n",
      "    Iter     Pivots    Primal Obj      Dual Obj        Time\n",
      "       0          0     infinity      0.0000000e+00      4s\n",
      "       1         77   1.1124519e+06   1.9651829e+00      4s\n",
      "       2        148   9.1371561e+00   6.6733631e+00      4s\n",
      "       3        232   8.7203149e+00   8.5027023e+00      4s\n",
      "\n",
      "Sifting complete\n",
      "\n",
      "\n",
      "Root relaxation: objective 8.693757e+00, 273 iterations, 0.30 seconds\n",
      "\n",
      "    Nodes    |    Current Node    |     Objective Bounds      |     Work\n",
      " Expl Unexpl |  Obj  Depth IntInf | Incumbent    BestBd   Gap | It/Node Time\n",
      "\n",
      "     0     0    8.69376    0   24          -    8.69376      -     -    4s\n",
      "     0     0    8.69376    0   24          -    8.69376      -     -   12s\n",
      "H    0     0                      10.0000000    8.69376  13.1%     -   22s\n",
      "     0     0    8.69376    0   24   10.00000    8.69376  13.1%     -   25s\n",
      "     0     0    8.69784    0   24   10.00000    8.69784  13.0%     -   25s\n",
      "     0     0    8.70576    0   24   10.00000    8.70576  12.9%     -   26s\n",
      "     0     0    8.70767    0   25   10.00000    8.70767  12.9%     -   26s\n",
      "     0     0    8.70993    0   26   10.00000    8.70993  12.9%     -   26s\n",
      "     0     0    8.71243    0   28   10.00000    8.71243  12.9%     -   26s\n",
      "     0     0    8.71412    0   28   10.00000    8.71412  12.9%     -   26s\n",
      "     0     0    8.71453    0   27   10.00000    8.71453  12.9%     -   26s\n",
      "     0     0    8.71609    0   28   10.00000    8.71609  12.8%     -   26s\n",
      "     0     0    8.71609    0   28   10.00000    8.71609  12.8%     -   27s\n",
      "     0     0    8.71609    0   24   10.00000    8.71609  12.8%     -   28s\n",
      "     0     0    8.71609    0   25   10.00000    8.71609  12.8%     -   28s\n",
      "     0     0    8.71609    0   26   10.00000    8.71609  12.8%     -   28s\n",
      "     0     0    8.71609    0   28   10.00000    8.71609  12.8%     -   28s\n",
      "     0     0    8.71609    0   29   10.00000    8.71609  12.8%     -   28s\n",
      "     0     0    8.71609    0   29   10.00000    8.71609  12.8%     -   28s\n",
      "     0     0    8.71609    0   29   10.00000    8.71609  12.8%     -   29s\n",
      "     0     0    8.71609    0   30   10.00000    8.71609  12.8%     -   29s\n",
      "     0     0    8.71863    0   30   10.00000    8.71863  12.8%     -   29s\n",
      "     0     0    8.71863    0   30   10.00000    8.71863  12.8%     -   29s\n",
      "     0     2    8.71863    0   30   10.00000    8.71863  12.8%     -   30s\n",
      "*  490     3              51       9.0000000    8.77385  2.51%   7.1   32s\n",
      "\n",
      "Cutting planes:\n",
      "  MIR: 3\n",
      "  Zero half: 7\n",
      "\n",
      "Explored 513 nodes (4135 simplex iterations) in 32.96 seconds\n",
      "Thread count was 4 (of 4 available processors)\n",
      "\n",
      "Solution count 2: 9 10 \n",
      "\n",
      "Optimal solution found (tolerance 1.00e-04)\n",
      "Best objective 9.000000000000e+00, best bound 9.000000000000e+00, gap 0.0000%\n",
      "Optimal solution:\n",
      "\n",
      "      idx  quantity                    word\n",
      "0     44         2  keratoconjunctivitides\n",
      "1    201         1    magnetofluiddynamics\n",
      "2   1957         1       paraformaldehydes\n",
      "3   6301         1         overexaggerated\n",
      "4   6351         1         oxyphenbutazone\n",
      "5   7026         1         squeezabilities\n",
      "6  12563         1          wheelbarrowing\n",
      "7  27729         1            pasqueflower\n",
      "Total number of words: 9\n",
      "Number of overlaps 8\n",
      "Overlapping letters: {'c': 2, 'd': 1, 'e': 2, 'n': 1, 's': 1, 't': 1}\n"
     ]
    }
   ],
   "source": [
    "# Solve integer program using Gurobi\n",
    "# using a possibly smaller word list. Setting M = N will use all words.\n",
    "# Setting M < N will use only the M longest words (faster if M is small!)\n",
    "M = N\n",
    "\n",
    "m = Model(\"bananagrams\")\n",
    "\n",
    "# Create variables (how many of each word to use). Reusing words is allowed\n",
    "w = m.addVars(N, vtype=GRB.INTEGER, lb=0, name=\"w\")\n",
    "\n",
    "# total number of words used and number of each letter used\n",
    "words_used = quicksum(w[i] for i in range(M))\n",
    "letters_used = [ quicksum(A[i,j]*w[i] for i in range(M)) for j in range(L) ]\n",
    "\n",
    "# Set objective (minimize number of words used)\n",
    "m.setObjective( words_used, GRB.MINIMIZE)\n",
    "\n",
    "# Constraint: must use as many letters as we have tiles of each sort\n",
    "m.addConstrs(  (letters_used[j] >= lettercounts[j] for j in range(L) ) )\n",
    "\n",
    "# Constraint: a letter can be reused at most twice (two crossing words)\n",
    "# m.addConstrs(  (letters_used[j] <= 2*lettercounts[j] for j in range(L)) )\n",
    "\n",
    "# Constraint: assume a chain of words (w-1 common letters assuming w words used)\n",
    "m.addConstr(  quicksum(letters_used[j] - lettercounts[j] for j in range(L)) == words_used-1 )\n",
    "\n",
    "m.optimize()\n",
    "\n",
    "\n",
    "# print the optimal solution\n",
    "opt = pd.DataFrame( data = [[ix,int(v.x),wordlist[ix]] for ix,v in enumerate(m.getVars()) if v.x > 0], columns = ['idx', 'quantity', 'word'] )\n",
    "print('Optimal solution:\\n\\n',opt)\n",
    "print('Total number of words:', opt.quantity.sum() )\n",
    "\n",
    "# print overlapping letters\n",
    "overlaps = sum( A[opt.idx[i],:] * opt.quantity[i] for i in range(len(opt)) ) - lettercounts\n",
    "d = dict([ item for item in zip(alphabet,overlaps) if item[1] > 0 ] )\n",
    "print('Number of overlaps', sum(d.values()))\n",
    "print('Overlapping letters:', d )"
   ]
  },
  {
   "cell_type": "code",
   "execution_count": null,
   "metadata": {},
   "outputs": [],
   "source": []
  }
 ],
 "metadata": {
  "kernelspec": {
   "display_name": "Python 3",
   "language": "python",
   "name": "python3"
  },
  "language_info": {
   "codemirror_mode": {
    "name": "ipython",
    "version": 3
   },
   "file_extension": ".py",
   "mimetype": "text/x-python",
   "name": "python",
   "nbconvert_exporter": "python",
   "pygments_lexer": "ipython3",
   "version": "3.7.1"
  }
 },
 "nbformat": 4,
 "nbformat_minor": 2
}
