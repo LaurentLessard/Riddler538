{
 "cells": [
  {
   "cell_type": "code",
   "execution_count": 10,
   "id": "36dec624-88c9-45c7-9296-78e6eb07cd0d",
   "metadata": {},
   "outputs": [],
   "source": [
    "from random import randint\n",
    "from operator import countOf\n",
    "import numpy as np"
   ]
  },
  {
   "cell_type": "code",
   "execution_count": 26,
   "id": "d70eaa7e-37a8-4f12-91eb-1a01b4753676",
   "metadata": {},
   "outputs": [
    {
     "name": "stdout",
     "output_type": "stream",
     "text": [
      "The expected number of people is 24.55923 ± 0.075 (95% confidence)\n"
     ]
    }
   ],
   "source": [
    "N = 100000 # number of trials\n",
    "n = 365   # number of days\n",
    "m = 2     # we win when there are m repeated birthdays\n",
    "\n",
    "lengths = []\n",
    "for trials in range(N):\n",
    "    x = []\n",
    "    for k in range(1,n+2):\n",
    "        z = randint(1,n)\n",
    "        if countOf(x,z) == m-1:\n",
    "            lengths.append(k)\n",
    "            break\n",
    "        else:\n",
    "            x.append(z)\n",
    "            \n",
    "a = np.mean(lengths)                 # empirical mean\n",
    "sem = np.std(lengths) / np.sqrt(N)   # standard error\n",
    "print(f'The expected number of people is {a} ± {1.96 * sem:.3f} (95% confidence)')"
   ]
  },
  {
   "cell_type": "code",
   "execution_count": 27,
   "id": "51253ab3-92cb-432d-9ed8-1315733fc658",
   "metadata": {},
   "outputs": [
    {
     "name": "stdout",
     "output_type": "stream",
     "text": [
      "The expected number of people is 88.69134 ± 0.204 (95% confidence)\n"
     ]
    }
   ],
   "source": [
    "N = 100000 # number of trials\n",
    "n = 365   # number of days\n",
    "m = 3     # we win when there are m repeated birthdays\n",
    "\n",
    "lengths = []\n",
    "for trials in range(N):\n",
    "    x = []\n",
    "    for k in range(1,n+2):\n",
    "        z = randint(1,n)\n",
    "        if countOf(x,z) == m-1:\n",
    "            lengths.append(k)\n",
    "            break\n",
    "        else:\n",
    "            x.append(z)\n",
    "            \n",
    "a = np.mean(lengths)                 # empirical mean\n",
    "sem = np.std(lengths) / np.sqrt(N)   # standard error\n",
    "print(f'The expected number of people is {a} ± {1.96 * sem:.3f} (95% confidence)')"
   ]
  },
  {
   "cell_type": "code",
   "execution_count": null,
   "id": "c94dd12a-b671-4425-868c-fa959427d19c",
   "metadata": {},
   "outputs": [],
   "source": []
  }
 ],
 "metadata": {
  "kernelspec": {
   "display_name": "Python 3",
   "language": "python",
   "name": "python3"
  },
  "language_info": {
   "codemirror_mode": {
    "name": "ipython",
    "version": 3
   },
   "file_extension": ".py",
   "mimetype": "text/x-python",
   "name": "python",
   "nbconvert_exporter": "python",
   "pygments_lexer": "ipython3",
   "version": "3.8.8"
  }
 },
 "nbformat": 4,
 "nbformat_minor": 5
}
