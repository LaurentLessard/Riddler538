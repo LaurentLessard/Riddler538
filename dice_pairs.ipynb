{
 "cells": [
  {
   "cell_type": "markdown",
   "id": "4f43a9b0-a3e5-497b-a067-910f6fd51c28",
   "metadata": {},
   "source": [
    "# Dice pairs game\n",
    "\n",
    "#### Riddler Classic for Friday March 11, 2022. Solution by [Laurent Lessard](https://laurentlessard.com)\n",
    "\n",
    "This week's [Riddler Classic](https://fivethirtyeight.com/features/can-you-score-some-basketball-tickets/) is a particular game of dice.\n",
    "\n",
    "> We’re playing a game where you have to pick four whole numbers. Then I will roll four fair dice. If any two of the dice add up to any one of the numbers you picked, then you win! Otherwise, you lose.\n",
    "> For example, suppose you picked the numbers 2, 3, 4 and 12, and the four dice came up 1, 2, 4 and 5. Then you’d win, because two of the dice (1 and 2) add up to at least one of the numbers you picked (3).\n",
    "> To maximize your chances of winning, which four numbers should you pick? And what are your chances of winning?"
   ]
  },
  {
   "cell_type": "code",
   "execution_count": 1,
   "id": "658688ef-a46f-4d8a-a91c-6635063f1368",
   "metadata": {},
   "outputs": [],
   "source": [
    "from itertools import product, combinations"
   ]
  },
  {
   "cell_type": "code",
   "execution_count": 2,
   "id": "2117fea1-9aa5-43ac-a2da-2f8292ea55d8",
   "metadata": {},
   "outputs": [],
   "source": [
    "# enumerate all possible events\n",
    "dievals = [1,2,3,4,5,6]\n",
    "events = product(dievals,repeat=4)\n",
    "\n",
    "# obtain all possible sums of pairs of numbers from each event\n",
    "pairsums = [ set([i+j for (i,j) in combinations(e,2)]) for e in events ]\n",
    "\n",
    "# enumerate all possible moves\n",
    "moves = [ set(numbers) for numbers in combinations(range(2,13),4) ]\n",
    "\n",
    "# return true if a particular move matches a particular pairsum\n",
    "def ismatch( move, pairsum ):\n",
    "    return len( set.intersection(move, pairsum) ) > 0\n",
    "\n",
    "# evaluate a move for all pairsums\n",
    "def evaluatemove( move, pairsums ):\n",
    "    q = [ ismatch(move,pairsum) for pairsum in pairsums ]\n",
    "    return sum(q)/len(pairsums)\n",
    "\n",
    "# evaluate all moves\n",
    "def evaluatemoves( moves, pairsums ):\n",
    "    return [ evaluatemove(move,pairsums) for move in moves ]"
   ]
  },
  {
   "cell_type": "code",
   "execution_count": 3,
   "id": "d9a474b2-3ca4-4d7f-bc41-224965450347",
   "metadata": {},
   "outputs": [
    {
     "name": "stdout",
     "output_type": "stream",
     "text": [
      "Wall time: 130 ms\n"
     ]
    }
   ],
   "source": [
    "%%time\n",
    "\n",
    "# evaluate all moves\n",
    "q = evaluatemoves( moves, pairsums )\n",
    "\n",
    "# sort the result and print all moves in order\n",
    "qs = [ (x,y) for y,x in sorted(zip(q,moves), key = lambda pair: pair[0], reverse=True) ]"
   ]
  },
  {
   "cell_type": "code",
   "execution_count": 4,
   "id": "67a11c65-98be-4c22-8eb0-6322f1db467d",
   "metadata": {},
   "outputs": [
    {
     "data": {
      "text/plain": [
       "[({4, 6, 8, 10}, 0.9753086419753086),\n",
       " ({2, 6, 8, 10}, 0.9614197530864198),\n",
       " ({4, 6, 8, 12}, 0.9614197530864198),\n",
       " ({4, 6, 7, 9}, 0.9552469135802469),\n",
       " ({5, 7, 8, 10}, 0.9552469135802469),\n",
       " ({4, 7, 8, 9}, 0.9537037037037037),\n",
       " ({5, 6, 7, 10}, 0.9537037037037037),\n",
       " ({4, 6, 7, 8}, 0.9529320987654321),\n",
       " ({4, 6, 7, 10}, 0.9529320987654321),\n",
       " ({4, 7, 8, 10}, 0.9529320987654321)]"
      ]
     },
     "execution_count": 4,
     "metadata": {},
     "output_type": "execute_result"
    }
   ],
   "source": [
    "# ten best moves and probablity of winning\n",
    "qs[:10]"
   ]
  },
  {
   "cell_type": "code",
   "execution_count": 5,
   "id": "4b5cf327-01f8-468c-bf30-42e1792447e7",
   "metadata": {},
   "outputs": [
    {
     "data": {
      "text/plain": [
       "[({2, 4, 11, 12}, 0.7029320987654321),\n",
       " ({2, 3, 4, 11}, 0.6990740740740741),\n",
       " ({3, 10, 11, 12}, 0.6990740740740741),\n",
       " ({2, 3, 4, 5}, 0.6944444444444444),\n",
       " ({9, 10, 11, 12}, 0.6944444444444444),\n",
       " ({2, 3, 5, 12}, 0.683641975308642),\n",
       " ({2, 9, 11, 12}, 0.683641975308642),\n",
       " ({2, 3, 4, 12}, 0.6257716049382716),\n",
       " ({2, 10, 11, 12}, 0.6257716049382716),\n",
       " ({2, 3, 11, 12}, 0.5987654320987654)]"
      ]
     },
     "execution_count": 5,
     "metadata": {},
     "output_type": "execute_result"
    }
   ],
   "source": [
    "# ten worse moves and probability of winning\n",
    "qs[-10:]"
   ]
  },
  {
   "cell_type": "code",
   "execution_count": null,
   "id": "e4a8efb6-f66f-49e4-81a5-16c62c3f914e",
   "metadata": {},
   "outputs": [],
   "source": []
  }
 ],
 "metadata": {
  "kernelspec": {
   "display_name": "Python 3",
   "language": "python",
   "name": "python3"
  },
  "language_info": {
   "codemirror_mode": {
    "name": "ipython",
    "version": 3
   },
   "file_extension": ".py",
   "mimetype": "text/x-python",
   "name": "python",
   "nbconvert_exporter": "python",
   "pygments_lexer": "ipython3",
   "version": "3.8.8"
  }
 },
 "nbformat": 4,
 "nbformat_minor": 5
}
