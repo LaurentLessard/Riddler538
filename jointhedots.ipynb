{
 "cells": [
  {
   "cell_type": "markdown",
   "id": "c27fac1e-46c8-482b-8c11-6b347c4ea0ce",
   "metadata": {},
   "source": [
    "# **Join the dots!**\n",
    "\n",
    "## [Riddler Classic](https://fivethirtyeight.com/features/who-will-win-riddler-jeopardy/), July 2, 2021\n",
    "\n",
    "### solution by [Laurent Lessard](https://laurentlessard.com)\n",
    "\n",
    "In this challenge, the numbers from 1 to 11 are arranged in a circle in a particular order: 1, 4, 8, 7, 11, 2, 5, 9, 3, 6, 10. You then have to connect pairs of numbers with straight line segments that don’t intersect, and your score is the sum of the products of the joined numbers. For example, with the connections {1, 4}, {8, 10}, {3, 7}, {5, 9}, and {2, 11} (and the 6 left by itself), you get a score of 1·4 + 8·10 + 3·7 + 5·9 + 2·11, or 172.\n",
    "\n",
    "The best score you can achieve with this ordering of 1 through 11 around the circle is 237, which you can get with the following connections: {6, 10}, {3, 4}, {7, 8}, {9, 11} and {2, 5} (and the 1 left by itself).\n",
    "\n",
    "This got Friend-of-The-Riddler Tyler Barron and me thinking about possible extensions of this challenge. If you want the highest possible maximum score, then you can rearrange the numbers from 1 to 11 so that they are in numerical order around the circle. (With this arrangement, the maximum score is 250.)\n",
    "\n",
    "But what if you want the lowest possible maximum score? That is, how can you order the numbers from 1 to 11 around the circle so that the maximum possible score is as low as possible? And what is the resulting score?\n",
    "\n",
    "---"
   ]
  },
  {
   "cell_type": "markdown",
   "id": "0d85fa72-ed21-4b66-937f-f8356dd70cee",
   "metadata": {},
   "source": [
    "Let's enumerate all possible sets of $n$ pairs of brackets"
   ]
  },
  {
   "cell_type": "code",
   "execution_count": 96,
   "id": "a1f75f7c-1a50-4aeb-a8e3-1f80636ff6f4",
   "metadata": {},
   "outputs": [],
   "source": [
    "import numpy as np\n",
    "from itertools import permutations"
   ]
  },
  {
   "cell_type": "code",
   "execution_count": 97,
   "id": "3501f646-d6c3-41ec-aba6-2ba57cb69378",
   "metadata": {},
   "outputs": [],
   "source": [
    "cache = {}\n",
    "\n",
    "def parentheses(n):\n",
    "    if n == 0:\n",
    "        return set([''])\n",
    "    elif n in cache:\n",
    "        return cache[n]\n",
    "    else:\n",
    "        par = set('(' + p + ')' for p in parentheses(n-1))\n",
    "        for k in range(1,n):\n",
    "            par.update(p+q for p in parentheses(k) for q in parentheses(n-k))\n",
    "        cache[n] = par\n",
    "        return par"
   ]
  },
  {
   "cell_type": "code",
   "execution_count": 111,
   "id": "2e848933-0873-408a-8b88-7d872748dbce",
   "metadata": {},
   "outputs": [],
   "source": [
    "n = 5\n",
    "q = list(parentheses(n))"
   ]
  },
  {
   "cell_type": "code",
   "execution_count": 112,
   "id": "5854999b-cd2a-42f8-aa9a-886f39f5b1e5",
   "metadata": {},
   "outputs": [],
   "source": [
    "def arr2mat(arrangement):\n",
    "    P1 = np.zeros((n,2*n))\n",
    "    P2 = np.zeros((n,2*n))\n",
    "    leftcount = 0\n",
    "    ixlist = []\n",
    "    for k,s in enumerate(arrangement):\n",
    "        if s == '(':\n",
    "            P1[leftcount,k] = 1\n",
    "            ixlist.append(leftcount)\n",
    "            leftcount = leftcount + 1\n",
    "        elif s == ')':\n",
    "            P2[ixlist.pop(),k] = 1\n",
    "        else:\n",
    "            print('error')\n",
    "    return P1.T @ P2\n",
    "\n",
    "Qlist = [arr2mat(arrangement) for arrangement in q]"
   ]
  },
  {
   "cell_type": "code",
   "execution_count": 113,
   "id": "58ede151-7e5d-4000-b8c8-20077a8ce2c9",
   "metadata": {},
   "outputs": [],
   "source": [
    "Qbig = np.array([ np.reshape(Q,(-1,1),'F').T[0] for Q in Qlist ])"
   ]
  },
  {
   "cell_type": "code",
   "execution_count": 114,
   "id": "87f8d65d-a144-442b-a237-c709e70e637d",
   "metadata": {},
   "outputs": [],
   "source": [
    "def f(x):\n",
    "    xtmp = np.reshape(np.array(x),(-1,1))\n",
    "    xbig = np.kron(xtmp,xtmp)\n",
    "    return np.max((Qbig @ xbig).T[0])\n",
    "\n",
    "def af(x):\n",
    "    xtmp = np.reshape(np.array(x),(-1,1))\n",
    "    xbig = np.kron(xtmp,xtmp)\n",
    "    return np.argmax((Qbig @ xbig).T[0])"
   ]
  },
  {
   "cell_type": "code",
   "execution_count": 115,
   "id": "25bf151c-ac73-4991-a48c-ccfaa2325af3",
   "metadata": {},
   "outputs": [
    {
     "name": "stdout",
     "output_type": "stream",
     "text": [
      "Wall time: 1min 53s\n"
     ]
    }
   ],
   "source": [
    "%%time\n",
    "items = list(range(2,2*n+2))\n",
    "results = [f(x) for x in permutations(items)]"
   ]
  },
  {
   "cell_type": "code",
   "execution_count": 116,
   "id": "fe93b491-2d4e-420e-93cb-3312b5dc517d",
   "metadata": {},
   "outputs": [
    {
     "data": {
      "text/plain": [
       "260218"
      ]
     },
     "execution_count": 116,
     "metadata": {},
     "output_type": "execute_result"
    }
   ],
   "source": [
    "ropt = np.argmin(results)\n",
    "ropt"
   ]
  },
  {
   "cell_type": "code",
   "execution_count": 117,
   "id": "0517ef29-0513-4390-8e7f-75434d8cd9d7",
   "metadata": {},
   "outputs": [
    {
     "data": {
      "text/plain": [
       "(2, 9, 6, 8, 5, 7, 4, 11, 3, 10)"
      ]
     },
     "execution_count": 117,
     "metadata": {},
     "output_type": "execute_result"
    }
   ],
   "source": [
    "ix = -1\n",
    "for p in permutations(items):\n",
    "    ix = ix+1\n",
    "    if ix == ropt:\n",
    "        popt = p\n",
    "popt"
   ]
  },
  {
   "cell_type": "code",
   "execution_count": 118,
   "id": "9ed5734b-0957-4f02-9cd0-7deb97f0e0b5",
   "metadata": {},
   "outputs": [
    {
     "data": {
      "text/plain": [
       "22"
      ]
     },
     "execution_count": 118,
     "metadata": {},
     "output_type": "execute_result"
    }
   ],
   "source": [
    "iopt = af(popt)\n",
    "iopt"
   ]
  },
  {
   "cell_type": "code",
   "execution_count": 119,
   "id": "5a325666-9ee8-4882-b066-bb679165ba54",
   "metadata": {},
   "outputs": [
    {
     "data": {
      "text/plain": [
       "'(())((()))'"
      ]
     },
     "execution_count": 119,
     "metadata": {},
     "output_type": "execute_result"
    }
   ],
   "source": [
    "q[iopt]"
   ]
  },
  {
   "cell_type": "code",
   "execution_count": 121,
   "id": "a2d440c1-f595-4d79-b2fe-1c996f7d208f",
   "metadata": {},
   "outputs": [
    {
     "data": {
      "text/plain": [
       "185.0"
      ]
     },
     "execution_count": 121,
     "metadata": {},
     "output_type": "execute_result"
    }
   ],
   "source": [
    "copt = f(popt)\n",
    "copt"
   ]
  },
  {
   "cell_type": "code",
   "execution_count": 125,
   "id": "51f3926c-9dc1-48c0-a00f-6d8a58561b63",
   "metadata": {},
   "outputs": [
    {
     "data": {
      "text/plain": [
       "234.0"
      ]
     },
     "execution_count": 125,
     "metadata": {},
     "output_type": "execute_result"
    }
   ],
   "source": [
    "f([8,5,7,4,11,10,1,2,9,6])"
   ]
  },
  {
   "cell_type": "code",
   "execution_count": null,
   "id": "02eaaf66-4a41-410d-b28b-8deebf46b234",
   "metadata": {},
   "outputs": [],
   "source": []
  }
 ],
 "metadata": {
  "kernelspec": {
   "display_name": "Python 3",
   "language": "python",
   "name": "python3"
  },
  "language_info": {
   "codemirror_mode": {
    "name": "ipython",
    "version": 3
   },
   "file_extension": ".py",
   "mimetype": "text/x-python",
   "name": "python",
   "nbconvert_exporter": "python",
   "pygments_lexer": "ipython3",
   "version": "3.8.8"
  }
 },
 "nbformat": 4,
 "nbformat_minor": 5
}
