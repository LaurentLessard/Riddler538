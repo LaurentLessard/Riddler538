{
 "cells": [
  {
   "cell_type": "code",
   "execution_count": 35,
   "id": "58600454-4d3e-4c0b-8f7c-9f40c58d0f44",
   "metadata": {},
   "outputs": [],
   "source": [
    "using JuMP\n",
    "using Ipopt\n",
    "using PyPlot"
   ]
  },
  {
   "cell_type": "code",
   "execution_count": 41,
   "id": "2c555247-f5ef-4a1d-a0a9-d2270bd9980a",
   "metadata": {},
   "outputs": [
    {
     "name": "stdout",
     "output_type": "stream",
     "text": [
      "This is Ipopt version 3.14.4, running with linear solver MUMPS 5.4.1.\n",
      "\n",
      "Number of nonzeros in equality constraint Jacobian...:        1\n",
      "Number of nonzeros in inequality constraint Jacobian.:       30\n",
      "Number of nonzeros in Lagrangian Hessian.............:        0\n",
      "\n",
      "Total number of variables............................:        8\n",
      "                     variables with only lower bounds:        0\n",
      "                variables with lower and upper bounds:        8\n",
      "                     variables with only upper bounds:        0\n",
      "Total number of equality constraints.................:        1\n",
      "Total number of inequality constraints...............:        6\n",
      "        inequality constraints with only lower bounds:        3\n",
      "   inequality constraints with lower and upper bounds:        0\n",
      "        inequality constraints with only upper bounds:        3\n",
      "\n",
      "iter    objective    inf_pr   inf_du lg(mu)  ||d||  lg(rg) alpha_du alpha_pr  ls\n",
      "   0  0.0000000e+00 1.56e+00 6.15e-01   0.0 0.00e+00    -  0.00e+00 0.00e+00   0\n",
      "   1  1.8901135e-01 9.03e-01 2.55e+02   0.4 3.77e+00    -  7.14e-03 4.22e-01f  1\n",
      "   2  1.3727947e-01 6.08e-01 1.57e+02  -5.9 9.03e-01    -  3.67e-01 3.26e-01h  1\n",
      "   3  8.5340676e-02 0.00e+00 2.03e+00  -2.2 6.08e-01    -  4.60e-01 1.00e+00h  1\n",
      "   4  5.4426402e-01 0.00e+00 4.12e+00  -1.2 6.00e-01    -  2.50e-01 1.00e+00f  1\n",
      "   5  1.0307251e+00 0.00e+00 1.50e+00  -2.5 4.55e-01    -  6.00e-01 6.85e-01f  1\n",
      "   6  1.4162405e+00 0.00e+00 1.67e+00  -1.0 1.88e+00    -  9.23e-01 2.58e-01f  1\n",
      "   7  1.6110197e+00 0.00e+00 2.60e+00  -1.0 7.07e-01    -  8.71e-01 1.00e+00f  1\n",
      "   8  2.1509157e+00 0.00e+00 1.30e+00  -1.4 6.86e-01    -  9.98e-01 4.89e-01f  1\n",
      "   9  2.4020390e+00 0.00e+00 5.29e-01  -1.6 4.47e-01    -  9.95e-01 5.84e-01h  1\n",
      "iter    objective    inf_pr   inf_du lg(mu)  ||d||  lg(rg) alpha_du alpha_pr  ls\n",
      "  10  2.5557269e+00 0.00e+00 2.97e+00  -2.0 1.06e+00    -  9.94e-01 8.90e-01f  1\n",
      "  11  2.2920100e+00 0.00e+00 3.35e+00  -0.9 4.84e-01    -  4.19e-01 1.00e+00f  1\n",
      "  12  2.6858938e+00 0.00e+00 2.73e+00  -1.7 4.28e-01    -  9.98e-01 1.00e+00f  1\n",
      "  13  3.0544052e+00 0.00e+00 2.79e+00  -2.0 3.06e-01    -  1.00e+00 1.00e+00f  1\n",
      "  14  3.4881052e+00 0.00e+00 2.57e+00  -1.1 1.81e+01    -  1.00e+00 6.18e-02f  1\n",
      "  15  3.5928456e+00 0.00e+00 2.80e+00  -0.5 1.73e+00    -  7.50e-01 8.19e-01f  1\n",
      "  16  4.4101770e+00 0.00e+00 2.67e+00  -1.2 4.34e-01    -  9.93e-01 1.00e+00f  1\n",
      "  17  5.0900860e+00 0.00e+00 1.89e+00  -1.6 7.06e-01    -  1.00e+00 4.37e-01f  1\n",
      "  18  4.9005566e+00 0.00e+00 2.11e+00  -1.2 1.59e+00    -  9.75e-01 1.00e+00f  1\n",
      "  19  5.4839668e+00 0.00e+00 1.80e+00  -1.4 7.95e-01    -  1.00e+00 7.08e-01f  1\n",
      "iter    objective    inf_pr   inf_du lg(mu)  ||d||  lg(rg) alpha_du alpha_pr  ls\n",
      "  20  5.7659255e+00 0.00e+00 1.20e+00  -1.1 3.82e-01    -  1.00e+00 1.00e+00f  1\n",
      "  21  6.2433295e+00 0.00e+00 4.71e-01  -1.9 2.17e-01    -  1.00e+00 9.46e-01f  1\n",
      "  22  6.2928123e+00 0.00e+00 1.17e-01  -3.0 3.11e-01    -  9.99e-01 1.00e+00h  1\n",
      "  23  6.2966172e+00 0.00e+00 5.42e-02  -3.7 8.28e-02    -  1.00e+00 1.00e+00h  1\n",
      "  24  6.2975572e+00 0.00e+00 3.16e-03  -5.0 2.11e-02    -  1.00e+00 1.00e+00h  1\n",
      "  25  6.2976024e+00 0.00e+00 5.01e-05  -7.1 4.10e-04    -  1.00e+00 1.00e+00h  1\n",
      "  26  6.2976027e+00 0.00e+00 1.50e-06 -11.0 9.17e-06    -  1.00e+00 1.00e+00h  1\n",
      "  27  6.2976027e+00 0.00e+00 3.36e-07 -11.0 4.43e-07    -  1.00e+00 1.00e+00h  1\n",
      "  28  6.2976027e+00 0.00e+00 4.42e-09 -11.0 7.72e-08    -  1.00e+00 1.00e+00h  1\n",
      "\n",
      "Number of Iterations....: 28\n",
      "\n",
      "                                   (scaled)                 (unscaled)\n",
      "Objective...............:  -6.2976027144621254e+00    6.2976027144621254e+00\n",
      "Dual infeasibility......:   4.4211216909673112e-09    4.4211216909673112e-09\n",
      "Constraint violation....:   0.0000000000000000e+00    0.0000000000000000e+00\n",
      "Variable bound violation:   9.9973951339649147e-09    9.9973951339649147e-09\n",
      "Complementarity.........:   1.0000089292403723e-11    1.0000089292403723e-11\n",
      "Overall NLP error.......:   4.4211216909673112e-09    4.4211216909673112e-09\n",
      "\n",
      "\n",
      "Number of objective function evaluations             = 29\n",
      "Number of objective gradient evaluations             = 29\n",
      "Number of equality constraint evaluations            = 29\n",
      "Number of inequality constraint evaluations          = 29\n",
      "Number of equality constraint Jacobian evaluations   = 29\n",
      "Number of inequality constraint Jacobian evaluations = 29\n",
      "Number of Lagrangian Hessian evaluations             = 0\n",
      "Total seconds in IPOPT                               = 0.088\n",
      "\n",
      "EXIT: Optimal Solution Found.\n"
     ]
    },
    {
     "data": {
      "text/plain": [
       "LOCALLY_SOLVED::TerminationStatusCode = 4"
      ]
     },
     "execution_count": 41,
     "metadata": {},
     "output_type": "execute_result"
    }
   ],
   "source": [
    "function area(r1,r2,r3,θ1,θ2,θ3)\n",
    "    return r1*r2*sin(θ2-θ1) + r2*r3*sin(θ3-θ2) - r1*r3*sin(θ3-θ1)\n",
    "end\n",
    "\n",
    "model = Model(Ipopt.Optimizer)\n",
    "\n",
    "register(model, :area, 6, area, autodiff=true)\n",
    "\n",
    "# variables\n",
    "@variable(model, 0 <= r[1:4] <= 1)\n",
    "@variable(model, 0 <= θ[1:4] <= 2π)\n",
    "@constraint(model, θ[1] == π/2)\n",
    "@constraint(model, θ[1] <= θ[2])\n",
    "@constraint(model, θ[2] <= θ[3])\n",
    "@constraint(model, θ[3] <= θ[4])\n",
    "A4 = area(r[1],r[2],r[3],θ[1],θ[2],θ[3])\n",
    "A1 = area(r[2],r[3],r[4],θ[2],θ[3],θ[4])\n",
    "A2 = area(r[3],r[4],r[1],θ[3],θ[4],θ[1])\n",
    "A3 = area(r[4],r[1],r[2],θ[4],θ[1],θ[2])\n",
    "@NLconstraint(model, A3 >= A1)\n",
    "@NLconstraint(model, A3 >= A2)\n",
    "@NLconstraint(model, A3 >= A4)\n",
    "@NLobjective(model, Max, (A1+A3) + A3 )\n",
    "\n",
    "optimize!(model)\n",
    "\n",
    "status = termination_status(model)"
   ]
  },
  {
   "cell_type": "code",
   "execution_count": 42,
   "id": "fa4db098-1242-499f-b187-75e7eebb037c",
   "metadata": {},
   "outputs": [
    {
     "name": "stdout",
     "output_type": "stream",
     "text": [
      "[1.0000000099973951, 1.0000000099970745, 1.0000000099947903, 1.0000000099970745]\n",
      "[90.0, 196.30654843151083, 269.9999999072676, 343.69345150838706]\n",
      "1.3805831005413924\n",
      "1.9195464555292692\n",
      "2.4585098069603664\n",
      "1.9195464519724894\n"
     ]
    }
   ],
   "source": [
    "println( [value(r[i]) for i in 1:4] )\n",
    "println( [180/π*value(θ[i]) for i in 1:4] )\n",
    "println( value(A1) )\n",
    "println( value(A2) )\n",
    "println( value(A3) )\n",
    "println( value(A4) )"
   ]
  },
  {
   "cell_type": "code",
   "execution_count": 46,
   "id": "f70addc7-75bb-4a1f-8ec5-9b31f12ceed7",
   "metadata": {},
   "outputs": [],
   "source": [
    "using Combinatorics"
   ]
  },
  {
   "cell_type": "code",
   "execution_count": 61,
   "id": "72bc1c35-8ef7-4bca-9208-e90527ee3279",
   "metadata": {},
   "outputs": [
    {
     "name": "stdout",
     "output_type": "stream",
     "text": [
      "[1, 2]\n",
      "[1, 3]\n",
      "[1, 4]\n",
      "[2, 3]\n",
      "[2, 4]\n",
      "[3, 4]\n"
     ]
    },
    {
     "data": {
      "image/png": "[encoded data removed]",
      "text/plain": [
       "Figure(PyObject <Figure size 640x480 with 1 Axes>)"
      ]
     },
     "metadata": {},
     "output_type": "display_data"
    }
   ],
   "source": [
    "t = range(0, stop=2π, length=200)\n",
    "plot(sin.(t),cos.(t),\"-\")\n",
    "x = [value(r[i]*cos(θ[i])) for i in 1:4]\n",
    "y = [value(r[i]*sin(θ[i])) for i in 1:4]\n",
    "plot(x,y,\"r.\",markersize=10)\n",
    "\n",
    "for (a,b) in combinations(1:4,2)\n",
    "    println( [a,b] )\n",
    "end\n",
    "\n",
    "for (i,j) in combinations(1:4,2)\n",
    "    plot([x[i],x[j]],[y[i],y[j]], \"r-\")\n",
    "end\n",
    "text(x[1],y[1]+0.08,\"A\",verticalalignment=\"center\",horizontalalignment=\"center\",fontsize=16)\n",
    "text(x[2]-0.1,y[2],\"B\",verticalalignment=\"center\",horizontalalignment=\"center\",fontsize=16)\n",
    "text(x[3],y[3]-0.11,\"C\",verticalalignment=\"center\",horizontalalignment=\"center\",fontsize=16)\n",
    "text(x[4]+0.1,y[4],\"D\",verticalalignment=\"center\",horizontalalignment=\"center\",fontsize=16)\n",
    "\n",
    "axis(\"equal\")\n",
    "axis(\"off\")\n",
    ";"
   ]
  },
  {
   "cell_type": "code",
   "execution_count": 63,
   "id": "846adb43-6f48-4a5c-ac5b-6b30d4c55aa3",
   "metadata": {},
   "outputs": [
    {
     "data": {
      "text/plain": [
       "0.9597732075392689"
      ]
     },
     "execution_count": 63,
     "metadata": {},
     "output_type": "execute_result"
    }
   ],
   "source": [
    "value(cos(θ[4]))"
   ]
  },
  {
   "cell_type": "code",
   "execution_count": null,
   "id": "608ca2f0-4a18-4aaa-9ee7-44e902cadc57",
   "metadata": {},
   "outputs": [],
   "source": []
  }
 ],
 "metadata": {
  "kernelspec": {
   "display_name": "Julia 1.8.3",
   "language": "julia",
   "name": "julia-1.8"
  },
  "language_info": {
   "file_extension": ".jl",
   "mimetype": "application/julia",
   "name": "julia",
   "version": "1.8.3"
  }
 },
 "nbformat": 4,
 "nbformat_minor": 5
}
