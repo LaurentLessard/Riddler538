{
 "cells": [
  {
   "cell_type": "markdown",
   "metadata": {},
   "source": [
    "# **Scrabble superstring**\n",
    "## [Riddler Classic, Jun. 28, 2019](https://fivethirtyeight.com/features/whats-your-best-scrabble-string/)\n",
    "\n",
    "### solution by [Laurent Lessard](https://laurentlessard.com)\n",
    "\n",
    "---"
   ]
  },
  {
   "cell_type": "markdown",
   "metadata": {},
   "source": [
    "## Some preliminaries\n",
    "\n",
    "Here I tabulate the tile distribution and collect the list of admissible words. I used the [ENABLE word list](https://norvig.com/ngrams/enable1.txt), as instructed in the problem statement."
   ]
  },
  {
   "cell_type": "code",
   "execution_count": 408,
   "metadata": {},
   "outputs": [],
   "source": [
    "import numpy as np\n",
    "import pandas as pd\n",
    "import random\n",
    "from gurobipy import *\n",
    "import networkx as nx\n",
    "import matplotlib.pyplot as plt"
   ]
  },
  {
   "cell_type": "code",
   "execution_count": 351,
   "metadata": {},
   "outputs": [],
   "source": [
    "\"\"\"\n",
    "0: ?×2\n",
    "1: E×12 A×9 I×9 O×8 N×6 R×6 T×6 L×4 S×4 U×4\n",
    "2: D×4 G×3\n",
    "3: B×2 C×2 M×2 P×2\n",
    "4: F×2 H×2 V×2 W×2 Y×2\n",
    "5: K\n",
    "8: J X\n",
    "10: Q Z\n",
    "\"\"\";"
   ]
  },
  {
   "cell_type": "code",
   "execution_count": 352,
   "metadata": {},
   "outputs": [],
   "source": [
    "# Make a list of all the letters\n",
    "letterlist = 12*'e' + 9*'a' + 9*'i' + 8*'o' + 6*'n' + 6*'r' + 6*'t' + 4*'l' + 4*'s' \\\n",
    "            + 4*'u' + 4*'d' + 3*'g' + 2*'b' + 2*'c' + 2*'m' + 2*'p' + 2*'f' + 2*'h' \\\n",
    "            + 2*'v' + 2*'w' + 2*'y' + 'kjxqz' + 2*'_'"
   ]
  },
  {
   "cell_type": "code",
   "execution_count": 353,
   "metadata": {},
   "outputs": [],
   "source": [
    "# How much is each letter worth, and how much is a word worth?\n",
    "scoredic = dict()\n",
    "for lett in '_':\n",
    "    scoredic[lett] = 0\n",
    "for lett in 'eaionrtlsu':\n",
    "    scoredic[lett] = 1\n",
    "for lett in 'dg':\n",
    "    scoredic[lett] = 2\n",
    "for lett in 'bcmp':\n",
    "    scoredic[lett] = 3\n",
    "for lett in 'fhvwy':\n",
    "    scoredic[lett] = 4\n",
    "for lett in 'k':\n",
    "    scoredic[lett] = 5\n",
    "for lett in 'jx':\n",
    "    scoredic[lett] = 8\n",
    "for lett in 'qz':\n",
    "    scoredic[lett] = 10\n",
    "    \n",
    "def wordscore(word):\n",
    "    \"\"\"\n",
    "    Evaluate the Scrabble score of a given word\n",
    "    \"\"\"\n",
    "    return sum( [scoredic[lett] for lett in word] )"
   ]
  },
  {
   "cell_type": "code",
   "execution_count": 354,
   "metadata": {},
   "outputs": [
    {
     "name": "stdout",
     "output_type": "stream",
     "text": [
      "The word list contains 172820 words.\n"
     ]
    }
   ],
   "source": [
    "# Gather the list of legal words. There are N words total\n",
    "f = open(\"enable1.txt\",\"r\")\n",
    "wordlist = sorted( [ w[:-1] for w in f ], key=wordscore, reverse=True )\n",
    "N = len(wordlist)\n",
    "print('The word list contains', N, 'words.')"
   ]
  },
  {
   "cell_type": "code",
   "execution_count": 409,
   "metadata": {},
   "outputs": [],
   "source": [
    "# create array that is N x L of letter occurences for each legal word\n",
    "alphabet = 'abcdefghijklmnopqrstuvwxyz'\n",
    "wordlist_lettercount = np.array( [ [w.count(lett) for lett in alphabet] for w in wordlist ] )\n",
    "tot_lettercount = np.array( [ [letterlist.count(lett) for lett in alphabet] ] )"
   ]
  },
  {
   "cell_type": "code",
   "execution_count": 421,
   "metadata": {},
   "outputs": [
    {
     "name": "stdout",
     "output_type": "stream",
     "text": [
      "['razzamatazzes', 'razzamatazz', 'knickknacks', 'expressionlessnesses', 'possessivenesses', 'possessednesses', 'classlessnesses', 'resistlessnesses', 'stresslessnesses', 'senselessnesses', 'stresslessness']\n"
     ]
    }
   ],
   "source": [
    "# find words that will never be usable because there does not exist enough of the right letters\n",
    "impossible_words = []\n",
    "for i in range(N):\n",
    "    if sum( [j for j in tot_lettercount[0]-wordlist_lettercount[i] if j <= 0] ) < -2:\n",
    "        impossible_words.append( wordlist[i] )\n",
    "        \n",
    "print(impossible_words)"
   ]
  },
  {
   "cell_type": "code",
   "execution_count": 423,
   "metadata": {},
   "outputs": [],
   "source": [
    "# update the wordlist to only contain possible words\n",
    "wordlist = [word for word in wordlist if word not in impossible_words ]"
   ]
  },
  {
   "cell_type": "code",
   "execution_count": 355,
   "metadata": {},
   "outputs": [],
   "source": [
    "def stringscore(ss):\n",
    "    \"\"\"\n",
    "    Evaluate the total score of a superstring\n",
    "    \"\"\"\n",
    "    scoretot = 0\n",
    "    for word in wordlist:\n",
    "        if word in ss:\n",
    "            scoretot += wordscore(word)\n",
    "    return scoretot\n",
    "\n",
    "def dotheymatch(w1,w2,lett):\n",
    "    \"\"\"\n",
    "    Returns True if words w1 and w2 can both match while sharing letter lett.\n",
    "    We assume w1 and w2 each contain lett exactly once.\n",
    "    \"\"\"\n",
    "    i1 = w1.find(lett)\n",
    "    i2 = w2.find(lett)\n",
    "    match_right = (w1[i1:] in w2) or (w2[i2:] in w1)\n",
    "    match_left  = (w1[:i1+1] in w2) or (w2[:i2+1] in w1)\n",
    "    return match_right and match_left"
   ]
  },
  {
   "cell_type": "code",
   "execution_count": 356,
   "metadata": {},
   "outputs": [],
   "source": [
    "# get list of all words containint a particular letter\n",
    "def getlettwords(lett):\n",
    "    lwords = []\n",
    "    lwordscores = []\n",
    "    for w in wordlist:\n",
    "        if w.count(lett) == 1:\n",
    "            lwords.append(w)\n",
    "            lwordscores.append(wordscore(w))\n",
    "    return (lwords,lwordscores)\n",
    "\n",
    "def makegraph(lwords,lett):\n",
    "    n = len(lwords)\n",
    "    elist = [ (i,j) for i in range(n) for j in range(i) if dotheymatch(lwords[i],lwords[j],lett) ]\n",
    "    return nx.Graph(elist)\n",
    "\n",
    "def getbestcliques(G,lwords,lscores,lett):\n",
    "    cliques = nx.find_cliques(G)\n",
    "    cliquescores = []\n",
    "    cliquewords = []\n",
    "    cliqueunion = []\n",
    "    for (i,c) in enumerate(cliques):\n",
    "        wrds = [ lwords[j] for j in c ]\n",
    "        cliquewords.append( wrds )\n",
    "        cliquescores.append( sum( [wordscore(w) for w in wrds] ) )\n",
    "        cliqueunion.append( unionize(wrds,lett) )\n",
    "    isrt = np.argsort(cliquescores)[::-1]\n",
    "    return [ cliquescores[i] for i in isrt ], [ cliquewords[i] for i in isrt ], [ cliqueunion[i] for i in isrt ]\n",
    "        \n",
    "def unionize(lwords,lett):\n",
    "    leftwords = []\n",
    "    rightwords = []\n",
    "    for w in lwords:\n",
    "        ix = w.find(lett)\n",
    "        leftwords.append( w[:ix] )\n",
    "        rightwords.append( w[ix+1:] )\n",
    "    leftwords.sort(key=len)\n",
    "    rightwords.sort(key=len)\n",
    "    return leftwords[-1] + lett + rightwords[-1]"
   ]
  },
  {
   "cell_type": "code",
   "execution_count": 386,
   "metadata": {},
   "outputs": [
    {
     "name": "stdout",
     "output_type": "stream",
     "text": [
      "2429 j words\n",
      "2519 q words\n",
      "4578 x words\n",
      "6627 z words\n"
     ]
    }
   ],
   "source": [
    "## VERY TIME CONSUMING\n",
    "\n",
    "# find all the J-words\n",
    "lett = 'j'\n",
    "(jwords,jscores) = getlettwords(lett)\n",
    "print(len(jwords), lett, 'words')\n",
    "Gj = makegraph(jwords,lett)\n",
    "\n",
    "# find all the Q-words\n",
    "lett = 'q'\n",
    "(qwords,qscores) = getlettwords(lett)\n",
    "print(len(qwords), lett, 'words')\n",
    "Gq = makegraph(qwords,lett)\n",
    "\n",
    "# find all the X-words\n",
    "lett = 'x'\n",
    "(xwords,xscores) = getlettwords(lett)\n",
    "print(len(xwords), lett, 'words')\n",
    "Gx = makegraph(xwords,lett)\n",
    "\n",
    "# find all the Z-words\n",
    "lett = 'z'\n",
    "(zwords,zscores) = getlettwords(lett)\n",
    "print(len(zwords), lett, 'words')\n",
    "Gz = makegraph(zwords,lett)"
   ]
  },
  {
   "cell_type": "code",
   "execution_count": 460,
   "metadata": {},
   "outputs": [
    {
     "name": "stdout",
     "output_type": "stream",
     "text": [
      "11995 k words\n"
     ]
    }
   ],
   "source": [
    "# find all the K-words\n",
    "lett = 'k'\n",
    "(kwords,kscores) = getlettwords(lett)\n",
    "print(len(kwords), lett, 'words')\n",
    "Gk = makegraph(kwords,lett)"
   ]
  },
  {
   "cell_type": "code",
   "execution_count": 462,
   "metadata": {},
   "outputs": [],
   "source": [
    "j_scores,j_words,j_unions = getbestcliques(Gj,jwords,jscores,'j')\n",
    "q_scores,q_words,q_unions = getbestcliques(Gq,qwords,qscores,'q')\n",
    "x_scores,x_words,x_unions = getbestcliques(Gx,xwords,xscores,'x')\n",
    "z_scores,z_words,z_unions = getbestcliques(Gz,zwords,zscores,'z')\n",
    "k_scores,k_words,k_unions = getbestcliques(Gk,kwords,kscores,'k')"
   ]
  },
  {
   "cell_type": "code",
   "execution_count": 538,
   "metadata": {},
   "outputs": [],
   "source": [
    "alphabet = 'abcdefghijklmnopqrstuvwxyz'\n",
    "Nmeta = 200\n",
    "tot_lettercount = np.array( [ [letterlist.count(lett) for lett in alphabet] ] )\n",
    "j_lettercount   = np.array( [ [w.count(lett) for lett in alphabet] for w in j_unions[:Nmeta] ] )\n",
    "q_lettercount   = np.array( [ [w.count(lett) for lett in alphabet] for w in q_unions[:Nmeta] ] )\n",
    "x_lettercount   = np.array( [ [w.count(lett) for lett in alphabet] for w in x_unions[:Nmeta] ] )\n",
    "z_lettercount   = np.array( [ [w.count(lett) for lett in alphabet] for w in z_unions[:Nmeta] ] )\n",
    "k_lettercount   = np.array( [ [w.count(lett) for lett in alphabet] for w in k_unions[:Nmeta] ] )\n",
    "\n",
    "metawords = np.array([j_unions[:Nmeta] + q_unions[:Nmeta] + x_unions[:Nmeta] + z_unions[:Nmeta] + k_unions[:Nmeta]])\n",
    "metalettcounts = np.vstack( [j_lettercount, q_lettercount, x_lettercount, z_lettercount, k_lettercount] )\n",
    "metacounts = np.array([j_scores[:Nmeta] + q_scores[:Nmeta] + x_scores[:Nmeta] + z_scores[:Nmeta] + k_scores[:Nmeta]])"
   ]
  },
  {
   "cell_type": "code",
   "execution_count": 539,
   "metadata": {},
   "outputs": [],
   "source": [
    "truemetacounts = np.array([[ stringscore(mw) for mw in metawords[0] ]])"
   ]
  },
  {
   "cell_type": "code",
   "execution_count": 540,
   "metadata": {},
   "outputs": [
    {
     "name": "stdout",
     "output_type": "stream",
     "text": [
      "(1, 26)\n",
      "(1000, 26)\n",
      "(1, 1000)\n",
      "(1, 1000)\n",
      "(1, 1000)\n"
     ]
    }
   ],
   "source": [
    "print( tot_lettercount.shape )\n",
    "print( metalettcounts.shape )\n",
    "print( metawords.shape )\n",
    "print( metacounts.shape )\n",
    "print( truemetacounts.shape )"
   ]
  },
  {
   "cell_type": "code",
   "execution_count": 541,
   "metadata": {},
   "outputs": [
    {
     "name": "stdout",
     "output_type": "stream",
     "text": [
      "Optimize a model with 26 rows, 1000 columns and 12110 nonzeros\n",
      "Variable types: 0 continuous, 1000 integer (0 binary)\n",
      "Coefficient statistics:\n",
      "  Matrix range     [1e+00, 8e+00]\n",
      "  Objective range  [1e+02, 4e+02]\n",
      "  Bounds range     [0e+00, 0e+00]\n",
      "  RHS range        [1e+00, 1e+01]\n",
      "Found heuristic solution: objective 760.0000000\n",
      "Presolve removed 0 rows and 186 columns\n",
      "Presolve time: 0.06s\n",
      "Presolved: 26 rows, 814 columns, 9881 nonzeros\n",
      "Variable types: 0 continuous, 814 integer (814 binary)\n",
      "\n",
      "Root relaxation: objective 1.174305e+03, 59 iterations, 0.00 seconds\n",
      "\n",
      "    Nodes    |    Current Node    |     Objective Bounds      |     Work\n",
      " Expl Unexpl |  Obj  Depth IntInf | Incumbent    BestBd   Gap | It/Node Time\n",
      "\n",
      "     0     0 1174.30508    0   13  760.00000 1174.30508  54.5%     -    0s\n",
      "H    0     0                    1094.0000000 1174.30508  7.34%     -    0s\n",
      "     0     0 1172.13333    0   15 1094.00000 1172.13333  7.14%     -    0s\n",
      "H    0     0                    1129.0000000 1172.13333  3.82%     -    0s\n",
      "     0     0 1172.13333    0   13 1129.00000 1172.13333  3.82%     -    0s\n",
      "     0     0 1172.13333    0   13 1129.00000 1172.13333  3.82%     -    0s\n",
      "     0     0 1160.89189    0   14 1129.00000 1160.89189  2.82%     -    0s\n",
      "     0     0 1152.30234    0   11 1129.00000 1152.30234  2.06%     -    0s\n",
      "     0     0 1150.46931    0   16 1129.00000 1150.46931  1.90%     -    0s\n",
      "     0     0 1149.75438    0   15 1129.00000 1149.75438  1.84%     -    0s\n",
      "     0     0 1146.92818    0   16 1129.00000 1146.92818  1.59%     -    0s\n",
      "     0     0 1146.70088    0   19 1129.00000 1146.70088  1.57%     -    0s\n",
      "     0     0 1144.08648    0   17 1129.00000 1144.08648  1.34%     -    0s\n",
      "     0     0 1144.01742    0   16 1129.00000 1144.01742  1.33%     -    0s\n",
      "     0     0 1143.97310    0   16 1129.00000 1143.97310  1.33%     -    0s\n",
      "     0     0 1142.79396    0   13 1129.00000 1142.79396  1.22%     -    0s\n",
      "     0     0 1141.15220    0   12 1129.00000 1141.15220  1.08%     -    0s\n",
      "     0     0 1139.40853    0   13 1129.00000 1139.40853  0.92%     -    0s\n",
      "     0     0 1139.28547    0   15 1129.00000 1139.28547  0.91%     -    0s\n",
      "     0     0 1137.01623    0   13 1129.00000 1137.01623  0.71%     -    0s\n",
      "\n",
      "Cutting planes:\n",
      "  Gomory: 2\n",
      "  Clique: 2\n",
      "  MIR: 1\n",
      "  Mod-K: 2\n",
      "\n",
      "Explored 1 nodes (249 simplex iterations) in 0.36 seconds\n",
      "Thread count was 4 (of 4 available processors)\n",
      "\n",
      "Solution count 3: 1129 1094 760 \n",
      "\n",
      "Optimal solution found (tolerance 1.00e-04)\n",
      "Best objective 1.129000000000e+03, best bound 1.129000000000e+03, gap 0.0000%\n"
     ]
    }
   ],
   "source": [
    "m = Model(\"scrabble\")\n",
    "M = metawords.shape[1]\n",
    "L = 26\n",
    "\n",
    "# Create variables (how many of each meta-word to use).\n",
    "w = m.addVars(M, vtype=GRB.INTEGER, lb=0, name=\"w\")\n",
    "\n",
    "# total number of words used and number of each letter used\n",
    "tot_score = quicksum(w[i]*truemetacounts[0,i] for i in range(M))\n",
    "letters_used = [ quicksum(metalettcounts[i,j]*w[i] for i in range(M)) for j in range(L) ]\n",
    "\n",
    "# Set objective (minimize number of words used)\n",
    "m.setObjective( tot_score, GRB.MAXIMIZE)\n",
    "\n",
    "# Constraint: must use as many letters as we have tiles of each sort\n",
    "m.addConstrs(  (letters_used[j] <= tot_lettercount[0,j] for j in range(L) ) )\n",
    "\n",
    "m.optimize()\n",
    "\n",
    "sol = [(ix,int(v.x),metawords[0,ix]) for ix,v in enumerate(m.getVars()) if v.x > 0 ]"
   ]
  },
  {
   "cell_type": "code",
   "execution_count": 542,
   "metadata": {},
   "outputs": [
    {
     "data": {
      "text/plain": [
       "[(190, 1, 'hadjointworms'),\n",
       " (213, 1, 'prequalifying'),\n",
       " (507, 1, 'decarboxylated'),\n",
       " (631, 1, 'emblazoners'),\n",
       " (840, 1, 'outpolitickingfishers')]"
      ]
     },
     "execution_count": 542,
     "metadata": {},
     "output_type": "execute_result"
    }
   ],
   "source": [
    "sol"
   ]
  },
  {
   "cell_type": "code",
   "execution_count": 547,
   "metadata": {},
   "outputs": [],
   "source": [
    "import itertools"
   ]
  },
  {
   "cell_type": "code",
   "execution_count": 550,
   "metadata": {},
   "outputs": [],
   "source": [
    "high_roller_wordlist = [ s[2] for s in sol ]"
   ]
  },
  {
   "cell_type": "code",
   "execution_count": 555,
   "metadata": {},
   "outputs": [
    {
     "name": "stdout",
     "output_type": "stream",
     "text": [
      "prequalifyingemblazonershadjointwormsoutpolitickingfishersdecarboxylated\n",
      "1141\n"
     ]
    }
   ],
   "source": [
    "bestss = ''\n",
    "bestsc = 0\n",
    "for ss in itertools.permutations(high_roller_wordlist):\n",
    "    sss = ''.join(ss)\n",
    "    ssc = stringscore(sss)\n",
    "    if ssc > bestsc:\n",
    "        bestsc = ssc\n",
    "        bestss = sss\n",
    "print(bestss)\n",
    "print(bestsc)"
   ]
  },
  {
   "cell_type": "code",
   "execution_count": 536,
   "metadata": {},
   "outputs": [
    {
     "data": {
      "text/plain": [
       "'eeeaaaaaiiiiiirttllubpvw__'"
      ]
     },
     "execution_count": 536,
     "metadata": {},
     "output_type": "execute_result"
    }
   ],
   "source": [
    "# remaining letters after high-rolling words used\n",
    "lett_remain = list(letterlist)\n",
    "for z in high_rollers:\n",
    "    lett_remain.remove(z)\n",
    "\n",
    "''.join(lett_remain)"
   ]
  },
  {
   "cell_type": "code",
   "execution_count": 557,
   "metadata": {},
   "outputs": [],
   "source": [
    "# find words that will never be usable because there does not exist enough of the right letters\n",
    "remain_impossible_words = []\n",
    "remain_lettercount = np.array( [ [lett_remain.count(lett) for lett in alphabet] ] )"
   ]
  },
  {
   "cell_type": "code",
   "execution_count": 570,
   "metadata": {},
   "outputs": [
    {
     "data": {
      "text/plain": [
       "33107"
      ]
     },
     "execution_count": 570,
     "metadata": {},
     "output_type": "execute_result"
    }
   ],
   "source": [
    "for i in range(N):\n",
    "    if sum( [j for j in remain_lettercount[0]-wordlist_lettercount[i] if j <= 0] ) < -2:\n",
    "        remain_impossible_words.append( wordlist[i] )\n",
    "remain_wordlist = list( set(wordlist) - set(remain_impossible_words) )\n",
    "\n",
    "len(remain_wordlist)"
   ]
  },
  {
   "cell_type": "code",
   "execution_count": null,
   "metadata": {},
   "outputs": [],
   "source": []
  },
  {
   "cell_type": "code",
   "execution_count": 459,
   "metadata": {},
   "outputs": [
    {
     "name": "stdout",
     "output_type": "stream",
     "text": [
      "ateaniovlotgthfyhaaqeecreamnysotetoxeoanndfsceskriniureebirbwjilepgadierludamonouzwiuetplivadgrsio\n",
      "130\n",
      "Wall time: 68 ms\n"
     ]
    }
   ],
   "source": [
    "%%time\n",
    "\n",
    "s = letterlist[:-2]\n",
    "ss = ''.join(random.sample(s,len(s)))\n",
    "print(ss)\n",
    "print(stringscore(ss))"
   ]
  },
  {
   "cell_type": "code",
   "execution_count": null,
   "metadata": {},
   "outputs": [],
   "source": []
  }
 ],
 "metadata": {
  "kernelspec": {
   "display_name": "Python 3",
   "language": "python",
   "name": "python3"
  },
  "language_info": {
   "codemirror_mode": {
    "name": "ipython",
    "version": 3
   },
   "file_extension": ".py",
   "mimetype": "text/x-python",
   "name": "python",
   "nbconvert_exporter": "python",
   "pygments_lexer": "ipython3",
   "version": "3.7.1"
  }
 },
 "nbformat": 4,
 "nbformat_minor": 2
}
