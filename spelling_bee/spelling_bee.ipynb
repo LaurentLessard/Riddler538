{
 "cells": [
  {
   "cell_type": "markdown",
   "metadata": {},
   "source": [
    "# **Spelling Bee (version without S)**\n",
    "\n",
    "## [Riddler Classic](https://fivethirtyeight.com/features/can-you-solve-the-vexing-vexillology/), Jan 3, 2020\n",
    "\n",
    "### solution by [Laurent Lessard](https://laurentlessard.com)\n",
    "\n",
    "The New York Times recently launched some new word puzzles, one of which is [Spelling Bee](https://www.nytimes.com/puzzles/spelling-bee). In this game, seven letters are arranged in a honeycomb lattice, with one letter in the center. Here’s the lattice from December 24, 2019:\n",
    "\n",
    "<img src=\"https://fivethirtyeight.com/wp-content/uploads/2020/01/Screen-Shot-2019-12-24-at-5.46.55-PM.png?w=1136\" width=\"250\">\n",
    "\n",
    "The goal is to identify as many words that meet the following criteria:\n",
    "- The word must be at least four letters long.\n",
    "- The word must include the central letter.\n",
    "- The word cannot include any letter beyond the seven given letters.\n",
    "\n",
    "Note that letters can be repeated. For example, the words GAME and AMALGAM are both acceptable words. Four-letter words are worth 1 point each, while five-letter words are worth 5 points, six-letter words are worth 6 points, seven-letter words are worth 7 points, etc. Words that use all of the seven letters in the honeycomb are known as “pangrams” and earn 7 bonus points (in addition to the points for the length of the word). So in the above example, MEGAPLEX is worth 15 points.\n",
    "\n",
    "Which seven-letter honeycomb results in the highest possible game score? To be a valid choice of seven letters, no letter can be repeated, it must not contain the letter S (that would be too easy) and there must be at least one pangram.\n",
    "\n",
    "For consistency, please use [this word list](https://norvig.com/ngrams/enable1.txt) to check your game score.\n",
    "\n",
    "---"
   ]
  },
  {
   "cell_type": "markdown",
   "metadata": {},
   "source": [
    "\n",
    "# My solution\n",
    "\n",
    "I used a brute-force approach. There are 3,364,900 different game boards and 44,585 eligible words. Solving this puzzle amounts to enumerating all possible words for each board and adding up their scores. In order to make this as efficient as possible, I used a few tricks:\n",
    "- I filtered the dictionary to exclude words shorter than 4 letters or that used more than 7 different letters, since these can never occur.\n",
    "- I pre-computed the scores of all remaining words in the dictionary\n",
    "- I created separate sub-dictionaries for each letter of the alphabet (all words that contain 'a', all words that contain 'b', etc.)\n",
    "- I used for loops that exit early when filtering the dictionary, which results in a 2x speed-up\n",
    "\n",
    "After all was said and done, the function I wrote took on average 5.22ms to compute the score of each board, which meant it took about 4 hours 53 min to solve the whole problem.\n",
    "\n",
    "The winning board was \"RAEGINT\" (with R in the center), for a total score of 3898.\n",
    "This board yields a total of 537 words, 50 of which are pangrams.\n",
    "The highest-scoring words are REAGGREGATING and REINTEGRATING (20 points each).\n",
    "\n",
    "Here is the code I wrote to solve the problem:"
   ]
  },
  {
   "cell_type": "code",
   "execution_count": 72,
   "metadata": {},
   "outputs": [],
   "source": [
    "from itertools import combinations\n",
    "import json"
   ]
  },
  {
   "cell_type": "markdown",
   "metadata": {},
   "source": [
    "### Methods that get run only once (efficiency is not important)"
   ]
  },
  {
   "cell_type": "code",
   "execution_count": 146,
   "metadata": {},
   "outputs": [
    {
     "name": "stdout",
     "output_type": "stream",
     "text": [
      "There are 44585 possible words that use at most 7 different letters\n"
     ]
    }
   ],
   "source": [
    "# read word list\n",
    "with open('enable1.txt', 'r') as f:\n",
    "    wlist = f.read().splitlines()\n",
    "    \n",
    "# all letters available (exlude 's')\n",
    "letters = 'abcdefghijklmnopqrtuvwxyz'\n",
    "    \n",
    "# keep only the words that have length at least 4\n",
    "wlist = [word for word in wlist if len(word) >= 4]\n",
    "\n",
    "# eliminate words that contain the letter 's'\n",
    "wlist = [word for word in wlist if 's' not in word]\n",
    "\n",
    "# keep only the words that have at most 7 distinct letters\n",
    "wlist = [word for word in wlist if len(set(word)) <= 7]\n",
    "\n",
    "# create a list of words for each center letter\n",
    "wlistc = {}\n",
    "for center_letter in letters:\n",
    "    wlistc[center_letter] = [word for word in wlist if center_letter in word]\n",
    "\n",
    "# what is the score of a given word?\n",
    "def word_score(word):\n",
    "    if len(word) == 4:\n",
    "        return 1\n",
    "    else:\n",
    "        score = len(word)        \n",
    "        # if pangram (uses 7 different letters)\n",
    "        if len(set(word)) == 7:\n",
    "            score += 7\n",
    "        return score\n",
    "\n",
    "# dictionary of all words and their scores\n",
    "wdict = {word:word_score(word) for word in wlist}\n",
    "print(\"There are\", len(wdict), \"possible words that use at most 7 different letters\")"
   ]
  },
  {
   "cell_type": "markdown",
   "metadata": {},
   "source": [
    "### Methods that get run a ton of times (make as efficient as possible!)"
   ]
  },
  {
   "cell_type": "code",
   "execution_count": 109,
   "metadata": {},
   "outputs": [],
   "source": [
    "# list of words that are relevant for a particular set of seven letters.\n",
    "def score_set(seven_letters):\n",
    "    ssl = set(seven_letters)\n",
    "    # words that contain the center letter\n",
    "    return sum( [wdict[word] for word in wlistc[seven_letters[0]] if set(word).issubset(ssl)] )\n",
    "\n",
    "\n",
    "# more efficient implementation\n",
    "\n",
    "def subset_eff(word,letterset):\n",
    "    for lett in word:\n",
    "        if lett not in letterset:\n",
    "            return False\n",
    "    return True\n",
    "\n",
    "def score_set_eff(seven_letters):\n",
    "    score = 0\n",
    "    for word in wlistc[seven_letters[0]]:\n",
    "        if subset_eff(word,seven_letters):\n",
    "            score += wdict[word]\n",
    "    return score"
   ]
  },
  {
   "cell_type": "markdown",
   "metadata": {},
   "source": [
    "### Full set of of seven-letter boards that must be tested"
   ]
  },
  {
   "cell_type": "code",
   "execution_count": 110,
   "metadata": {},
   "outputs": [
    {
     "name": "stdout",
     "output_type": "stream",
     "text": [
      "Wall time: 1.65 s\n"
     ]
    },
    {
     "data": {
      "text/plain": [
       "3364900"
      ]
     },
     "execution_count": 110,
     "metadata": {},
     "output_type": "execute_result"
    }
   ],
   "source": [
    "%%time\n",
    "# set of seven-letter boards that we must test\n",
    "test_seven_letters = [ c + \"\".join(w) for c in letters for w in combinations(letters.replace(c,''),6)]\n",
    "len(test_seven_letters)"
   ]
  },
  {
   "cell_type": "markdown",
   "metadata": {},
   "source": [
    "### Test each of the 7-letter boards"
   ]
  },
  {
   "cell_type": "code",
   "execution_count": 113,
   "metadata": {},
   "outputs": [
    {
     "name": "stdout",
     "output_type": "stream",
     "text": [
      "best board: raegint \n",
      "best score: 3898\n",
      "Wall time: 4h 53min 9s\n"
     ]
    }
   ],
   "source": [
    "%%time\n",
    "test_scores = { seven_letters: score_set_eff(seven_letters) for seven_letters in test_seven_letters }\n",
    "best_word = max(test_scores, key=test_scores.get)\n",
    "print(\"best board:\", best_word, \"\\nbest score:\", test_scores[best_word])\n",
    "with open('test_scores.json', 'w') as file:\n",
    "    json.dump(test_scores, file)"
   ]
  },
  {
   "cell_type": "markdown",
   "metadata": {},
   "source": [
    "### Take a closer look at the winner(s)"
   ]
  },
  {
   "cell_type": "code",
   "execution_count": 147,
   "metadata": {},
   "outputs": [],
   "source": [
    "test_scores_list = [(key,val) for (key,val) in test_scores.items()]\n",
    "test_scores_list.sort( key = lambda x:x[1], reverse=True )"
   ]
  },
  {
   "cell_type": "code",
   "execution_count": 148,
   "metadata": {},
   "outputs": [
    {
     "data": {
      "text/plain": [
       "[('raegint', 3898),\n",
       " ('naegirt', 3782),\n",
       " ('eaginrt', 3769),\n",
       " ('eadinrt', 3672),\n",
       " ('taeginr', 3421)]"
      ]
     },
     "execution_count": 148,
     "metadata": {},
     "output_type": "execute_result"
    }
   ],
   "source": [
    "# top scoring boards\n",
    "test_scores_list[:5]"
   ]
  },
  {
   "cell_type": "code",
   "execution_count": 136,
   "metadata": {},
   "outputs": [],
   "source": [
    "# extract words from this winner\n",
    "r = [(word,wdict[word]) for word in wlistc['r'] if set(word).issubset('raegint')]\n",
    "r.sort(key=lambda x: x[1], reverse=True)"
   ]
  },
  {
   "cell_type": "code",
   "execution_count": 138,
   "metadata": {},
   "outputs": [
    {
     "name": "stdout",
     "output_type": "stream",
     "text": [
      "537\n"
     ]
    }
   ],
   "source": [
    "# total number of words that can be made\n",
    "print(len(r))"
   ]
  },
  {
   "cell_type": "code",
   "execution_count": 155,
   "metadata": {},
   "outputs": [
    {
     "data": {
      "text/plain": [
       "[('reaggregating', 20),\n",
       " ('reintegrating', 20),\n",
       " ('entertaining', 19),\n",
       " ('intenerating', 19),\n",
       " ('regenerating', 19),\n",
       " ('reinitiating', 19),\n",
       " ('aggregating', 18),\n",
       " ('gratineeing', 18),\n",
       " ('integrating', 18),\n",
       " ('itinerating', 18),\n",
       " ('reattaining', 18),\n",
       " ('reintegrate', 18),\n",
       " ('reiterating', 18),\n",
       " ('retargeting', 18),\n",
       " ('entraining', 17),\n",
       " ('entreating', 17),\n",
       " ('garnierite', 17),\n",
       " ('generating', 17),\n",
       " ('greatening', 17),\n",
       " ('ingratiate', 17),\n",
       " ('interregna', 17),\n",
       " ('intreating', 17),\n",
       " ('regranting', 17),\n",
       " ('retraining', 17),\n",
       " ('retreating', 17),\n",
       " ('argentine', 16),\n",
       " ('argentite', 16),\n",
       " ('gartering', 16),\n",
       " ('integrate', 16),\n",
       " ('intergang', 16),\n",
       " ('iterating', 16),\n",
       " ('nattering', 16),\n",
       " ('rattening', 16),\n",
       " ('regrating', 16),\n",
       " ('retagging', 16),\n",
       " ('retaining', 16),\n",
       " ('retearing', 16),\n",
       " ('tangerine', 16),\n",
       " ('targeting', 16),\n",
       " ('tattering', 16),\n",
       " ('aerating', 15),\n",
       " ('gnattier', 15),\n",
       " ('gratinee', 15),\n",
       " ('interage', 15),\n",
       " ('treating', 15),\n",
       " ('granite', 14),\n",
       " ('gratine', 14),\n",
       " ('ingrate', 14),\n",
       " ('tangier', 14),\n",
       " ('tearing', 14),\n",
       " ('reengineering', 13),\n",
       " ('ingratiating', 12),\n",
       " ('engineering', 11),\n",
       " ('entertainer', 11),\n",
       " ('reaggregate', 11),\n",
       " ('rearranging', 11),\n",
       " ('reinterring', 11),\n",
       " ('trinitarian', 11),\n",
       " ('arraigning', 10),\n",
       " ('engraining', 10)]"
      ]
     },
     "execution_count": 155,
     "metadata": {},
     "output_type": "execute_result"
    }
   ],
   "source": [
    "r[:60]"
   ]
  },
  {
   "cell_type": "code",
   "execution_count": null,
   "metadata": {},
   "outputs": [],
   "source": []
  }
 ],
 "metadata": {
  "kernelspec": {
   "display_name": "Python 3",
   "language": "python",
   "name": "python3"
  },
  "language_info": {
   "codemirror_mode": {
    "name": "ipython",
    "version": 3
   },
   "file_extension": ".py",
   "mimetype": "text/x-python",
   "name": "python",
   "nbconvert_exporter": "python",
   "pygments_lexer": "ipython3",
   "version": "3.8.1"
  }
 },
 "nbformat": 4,
 "nbformat_minor": 4
}
