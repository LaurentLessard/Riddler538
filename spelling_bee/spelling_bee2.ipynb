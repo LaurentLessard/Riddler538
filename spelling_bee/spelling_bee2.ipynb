{
 "cells": [
  {
   "cell_type": "markdown",
   "metadata": {},
   "source": [
    "# **Spelling Bee (version with S)**\n",
    "\n",
    "## [Riddler Classic](https://fivethirtyeight.com/features/can-you-solve-the-vexing-vexillology/), Jan 3, 2020\n",
    "\n",
    "### solution by [Laurent Lessard](https://laurentlessard.com)\n",
    "\n",
    "The New York Times recently launched some new word puzzles, one of which is [Spelling Bee](https://www.nytimes.com/puzzles/spelling-bee). In this game, seven letters are arranged in a honeycomb lattice, with one letter in the center. Here’s the lattice from December 24, 2019:\n",
    "\n",
    "<img src=\"https://fivethirtyeight.com/wp-content/uploads/2020/01/Screen-Shot-2019-12-24-at-5.46.55-PM.png?w=1136\" width=\"250\">\n",
    "\n",
    "The goal is to identify as many words that meet the following criteria:\n",
    "- The word must be at least four letters long.\n",
    "- The word must include the central letter.\n",
    "- The word cannot include any letter beyond the seven given letters.\n",
    "\n",
    "Note that letters can be repeated. For example, the words GAME and AMALGAM are both acceptable words. Four-letter words are worth 1 point each, while five-letter words are worth 5 points, six-letter words are worth 6 points, seven-letter words are worth 7 points, etc. Words that use all of the seven letters in the honeycomb are known as “pangrams” and earn 7 bonus points (in addition to the points for the length of the word). So in the above example, MEGAPLEX is worth 15 points.\n",
    "\n",
    "Which seven-letter honeycomb results in the highest possible game score? To be a valid choice of seven letters, no letter can be repeated, it must not contain the letter S (that would be too easy) and there must be at least one pangram.\n",
    "\n",
    "For consistency, please use [this word list](https://norvig.com/ngrams/enable1.txt) to check your game score.\n",
    "\n",
    "---"
   ]
  },
  {
   "cell_type": "markdown",
   "metadata": {},
   "source": [
    "\n",
    "# My solution\n",
    "\n",
    "I used a brute-force approach. There are 4,604,600 different game boards and 98,141 eligible words. Solving this puzzle amounts to enumerating all possible words for each board and adding up their scores. In order to make this as efficient as possible, I used a few tricks:\n",
    "- I filtered the dictionary to exclude words shorter than 4 letters or that used more than 7 different letters, since these can never occur.\n",
    "- I pre-computed the scores of all remaining words in the dictionary\n",
    "- I created separate sub-dictionaries for each letter of the alphabet (all words that contain 'a', all words that contain 'b', etc.)\n",
    "- I used for loops that exit early when filtering the dictionary, which results in a 2x speed-up\n",
    "\n",
    "After all was said and done, the function I wrote took about 9 hours 45 min to solve the whole problem.\n",
    "\n",
    "The winning board was \"EAINRST\" (with E in the center), for a total score of 8681.\n",
    "This board yields a total of 958 words, 86 of which are pangrams.\n",
    "The highest-scoring words are ENTERTAINERS, INTERSTRAINS, STRAITNESSES (19 points each).\n",
    "\n",
    "Here is the code I wrote to solve the problem:"
   ]
  },
  {
   "cell_type": "code",
   "execution_count": 4,
   "metadata": {},
   "outputs": [],
   "source": [
    "from itertools import combinations\n",
    "import json"
   ]
  },
  {
   "cell_type": "markdown",
   "metadata": {},
   "source": [
    "### Methods that get run only once (efficiency is not important)"
   ]
  },
  {
   "cell_type": "code",
   "execution_count": 1,
   "metadata": {},
   "outputs": [
    {
     "name": "stdout",
     "output_type": "stream",
     "text": [
      "There are 98141 possible words that use at most 7 different letters\n"
     ]
    }
   ],
   "source": [
    "# read word list\n",
    "with open('enable1.txt', 'r') as f:\n",
    "    wlist = f.read().splitlines()\n",
    "    \n",
    "# all letters available (exlude 's')\n",
    "letters = 'abcdefghijklmnopqrstuvwxyz'\n",
    "    \n",
    "# keep only the words that have length at least 4\n",
    "wlist = [word for word in wlist if len(word) >= 4]\n",
    "\n",
    "# eliminate words that contain the letter 's'\n",
    "# wlist = [word for word in wlist if 's' not in word]\n",
    "\n",
    "# keep only the words that have at most 7 distinct letters\n",
    "wlist = [word for word in wlist if len(set(word)) <= 7]\n",
    "\n",
    "# create a list of words for each center letter\n",
    "wlistc = {}\n",
    "for center_letter in letters:\n",
    "    wlistc[center_letter] = [word for word in wlist if center_letter in word]\n",
    "\n",
    "# what is the score of a given word?\n",
    "def word_score(word):\n",
    "    if len(word) == 4:\n",
    "        return 1\n",
    "    else:\n",
    "        score = len(word)        \n",
    "        # if pangram (uses 7 different letters)\n",
    "        if len(set(word)) == 7:\n",
    "            score += 7\n",
    "        return score\n",
    "\n",
    "# dictionary of all words and their scores\n",
    "wdict = {word:word_score(word) for word in wlist}\n",
    "print(\"There are\", len(wdict), \"possible words that use at most 7 different letters\")"
   ]
  },
  {
   "cell_type": "markdown",
   "metadata": {},
   "source": [
    "### Methods that get run a ton of times (make as efficient as possible!)"
   ]
  },
  {
   "cell_type": "code",
   "execution_count": 5,
   "metadata": {},
   "outputs": [],
   "source": [
    "# list of words that are relevant for a particular set of seven letters.\n",
    "def score_set(seven_letters):\n",
    "    ssl = set(seven_letters)\n",
    "    # words that contain the center letter\n",
    "    return sum( [wdict[word] for word in wlistc[seven_letters[0]] if set(word).issubset(ssl)] )\n",
    "\n",
    "\n",
    "# more efficient implementation\n",
    "\n",
    "def subset_eff(word,letterset):\n",
    "    for lett in word:\n",
    "        if lett not in letterset:\n",
    "            return False\n",
    "    return True\n",
    "\n",
    "def score_set_eff(seven_letters):\n",
    "    score = 0\n",
    "    for word in wlistc[seven_letters[0]]:\n",
    "        if subset_eff(word,seven_letters):\n",
    "            score += wdict[word]\n",
    "    return score"
   ]
  },
  {
   "cell_type": "markdown",
   "metadata": {},
   "source": [
    "### Full set of of seven-letter boards that must be tested"
   ]
  },
  {
   "cell_type": "code",
   "execution_count": 6,
   "metadata": {},
   "outputs": [
    {
     "name": "stdout",
     "output_type": "stream",
     "text": [
      "Wall time: 2.49 s\n"
     ]
    },
    {
     "data": {
      "text/plain": [
       "4604600"
      ]
     },
     "execution_count": 6,
     "metadata": {},
     "output_type": "execute_result"
    }
   ],
   "source": [
    "%%time\n",
    "# set of seven-letter boards that we must test\n",
    "test_seven_letters = [ c + \"\".join(w) for c in letters for w in combinations(letters.replace(c,''),6)]\n",
    "len(test_seven_letters)"
   ]
  },
  {
   "cell_type": "markdown",
   "metadata": {},
   "source": [
    "### Test each of the 7-letter boards"
   ]
  },
  {
   "cell_type": "code",
   "execution_count": 7,
   "metadata": {},
   "outputs": [
    {
     "name": "stdout",
     "output_type": "stream",
     "text": [
      "best board: eainrst \n",
      "best score: 8681\n",
      "Wall time: 9h 44min 58s\n"
     ]
    }
   ],
   "source": [
    "%%time\n",
    "test_scores = { seven_letters: score_set_eff(seven_letters) for seven_letters in test_seven_letters }\n",
    "best_word = max(test_scores, key=test_scores.get)\n",
    "print(\"best board:\", best_word, \"\\nbest score:\", test_scores[best_word])\n",
    "with open('spelling_bee_test_scores2.json', 'w') as file:\n",
    "    json.dump(test_scores, file)"
   ]
  },
  {
   "cell_type": "markdown",
   "metadata": {},
   "source": [
    "### Take a closer look at the winner(s)"
   ]
  },
  {
   "cell_type": "code",
   "execution_count": 8,
   "metadata": {},
   "outputs": [],
   "source": [
    "test_scores_list = [(key,val) for (key,val) in test_scores.items()]\n",
    "test_scores_list.sort( key = lambda x:x[1], reverse=True )"
   ]
  },
  {
   "cell_type": "code",
   "execution_count": 9,
   "metadata": {},
   "outputs": [
    {
     "data": {
      "text/plain": [
       "[('eainrst', 8681),\n",
       " ('saeinrt', 8353),\n",
       " ('taeinrs', 8298),\n",
       " ('eaiprst', 7103),\n",
       " ('raeinst', 7081)]"
      ]
     },
     "execution_count": 9,
     "metadata": {},
     "output_type": "execute_result"
    }
   ],
   "source": [
    "# top scoring boards\n",
    "test_scores_list[:5]"
   ]
  },
  {
   "cell_type": "code",
   "execution_count": 15,
   "metadata": {},
   "outputs": [],
   "source": [
    "# extract words from this winner\n",
    "r = [(word,wdict[word]) for word in wlistc['r'] if set(word).issubset('eainrst')]\n",
    "r.sort(key=lambda x: x[1], reverse=True)"
   ]
  },
  {
   "cell_type": "code",
   "execution_count": 16,
   "metadata": {},
   "outputs": [
    {
     "name": "stdout",
     "output_type": "stream",
     "text": [
      "958\n"
     ]
    }
   ],
   "source": [
    "# total number of words that can be made\n",
    "print(len(r))"
   ]
  },
  {
   "cell_type": "code",
   "execution_count": 20,
   "metadata": {},
   "outputs": [
    {
     "data": {
      "text/plain": [
       "[('entertainers', 19),\n",
       " ('interstrains', 19),\n",
       " ('straitnesses', 19),\n",
       " ('intenerates', 18),\n",
       " ('interstates', 18),\n",
       " ('interstrain', 18),\n",
       " ('iratenesses', 18),\n",
       " ('itineraries', 18),\n",
       " ('reinitiates', 18),\n",
       " ('restrainers', 18),\n",
       " ('tristearins', 18),\n",
       " ('antistress', 17),\n",
       " ('artinesses', 17),\n",
       " ('entertains', 17),\n",
       " ('entrainers', 17),\n",
       " ('entreaties', 17),\n",
       " ('errantries', 17),\n",
       " ('interstate', 17),\n",
       " ('intrastate', 17),\n",
       " ('itinerants', 17),\n",
       " ('itinerates', 17),\n",
       " ('reinstates', 17),\n",
       " ('resistants', 17),\n",
       " ('restrainer', 17),\n",
       " ('restraints', 17),\n",
       " ('sanitaries', 17),\n",
       " ('stannaries', 17),\n",
       " ('straitness', 17),\n",
       " ('tanistries', 17),\n",
       " ('tearstains', 17),\n",
       " ('tenantries', 17),\n",
       " ('transients', 17),\n",
       " ('tristearin', 17),\n",
       " ('arsenites', 16),\n",
       " ('attainers', 16),\n",
       " ('instanter', 16),\n",
       " ('irateness', 16),\n",
       " ('reattains', 16),\n",
       " ('reinstate', 16),\n",
       " ('resinates', 16),\n",
       " ('resistant', 16),\n",
       " ('restrains', 16),\n",
       " ('restraint', 16),\n",
       " ('retainers', 16),\n",
       " ('retirants', 16),\n",
       " ('seatrains', 16),\n",
       " ('stearines', 16),\n",
       " ('strainers', 16),\n",
       " ('straitens', 16),\n",
       " ('tanneries', 16),\n",
       " ('tearstain', 16),\n",
       " ('ternaries', 16),\n",
       " ('transient', 16),\n",
       " ('antisera', 15),\n",
       " ('arenites', 15),\n",
       " ('arsenite', 15),\n",
       " ('artiness', 15),\n",
       " ('entrains', 15),\n",
       " ('inertias', 15),\n",
       " ('intreats', 15),\n",
       " ('nitrates', 15),\n",
       " ('rainiest', 15),\n",
       " ('ratanies', 15),\n",
       " ('resinate', 15),\n",
       " ('restrain', 15),\n",
       " ('retrains', 15),\n",
       " ('retsinas', 15),\n",
       " ('seatrain', 15),\n",
       " ('stainers', 15),\n",
       " ('stearine', 15),\n",
       " ('stearins', 15),\n",
       " ('strainer', 15),\n",
       " ('straiten', 15),\n",
       " ('terrains', 15),\n",
       " ('tertians', 15),\n",
       " ('trainees', 15),\n",
       " ('trainers', 15),\n",
       " ('anestri', 14),\n",
       " ('antsier', 14),\n",
       " ('nastier', 14),\n",
       " ('ratines', 14),\n",
       " ('retains', 14),\n",
       " ('retinas', 14),\n",
       " ('retsina', 14),\n",
       " ('sinisternesses', 14),\n",
       " ('stainer', 14),\n",
       " ('stearin', 14),\n",
       " ('earnestnesses', 13),\n",
       " ('entirenesses', 12),\n",
       " ('serenenesses', 12),\n",
       " ('sinisterness', 12),\n",
       " ('earnestness', 11),\n",
       " ('enteritises', 11),\n",
       " ('entertainer', 11),\n",
       " ('inertnesses', 11),\n",
       " ('retreatants', 11),\n",
       " ('sanitarians', 11),\n",
       " ('sternnesses', 11),\n",
       " ('tersenesses', 11),\n",
       " ('traitresses', 11)]"
      ]
     },
     "execution_count": 20,
     "metadata": {},
     "output_type": "execute_result"
    }
   ],
   "source": [
    "r[:100]"
   ]
  },
  {
   "cell_type": "code",
   "execution_count": null,
   "metadata": {},
   "outputs": [],
   "source": []
  }
 ],
 "metadata": {
  "kernelspec": {
   "display_name": "Python 3",
   "language": "python",
   "name": "python3"
  },
  "language_info": {
   "codemirror_mode": {
    "name": "ipython",
    "version": 3
   },
   "file_extension": ".py",
   "mimetype": "text/x-python",
   "name": "python",
   "nbconvert_exporter": "python",
   "pygments_lexer": "ipython3",
   "version": "3.8.1"
  }
 },
 "nbformat": 4,
 "nbformat_minor": 4
}
