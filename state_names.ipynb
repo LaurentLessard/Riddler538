{
 "cells": [
  {
   "cell_type": "markdown",
   "metadata": {},
   "source": [
    "# **State names**\n",
    "\n",
    "## [Riddler Classic](https://fivethirtyeight.com/features/somethings-fishy-in-the-state-of-the-riddler/), May 22, 2020\n",
    "\n",
    "### solution by [Laurent Lessard](https://laurentlessard.com)\n",
    "\n",
    "Ohio is the only state whose name doesn’t share any letters with the word \"mackerel.\" It’s strange, but it’s true.\n",
    "\n",
    "But that isn’t the only pairing of a state and a word you can say that about — it’s not even the only fish! Kentucky has \"goldfish\" to itself, Montana has \"jellyfish\" and Delaware has \"monkfish,\" just to name a few.\n",
    "\n",
    "What is the longest \"mackerel?\" That is, what is the longest word that doesn’t share any letters with exactly one state? (If multiple \"mackerels\" are tied for being the longest, can you find them all?)\n",
    "\n",
    "_Extra credit:_ Which state has the _most_ \"mackerels?\" That is, which state has the most words for which it is the only state without any letters in common with those words?\n",
    "\n",
    "(For both the Riddler and the extra credit, please refer to Friend of the Riddler™ Peter Norvig’s [word list](https://norvig.com/ngrams/enable1.txt).)\n",
    "\n",
    "---"
   ]
  },
  {
   "cell_type": "markdown",
   "metadata": {},
   "source": [
    "### Solution approach\n",
    "\n",
    "Our approach will be one of brute force! Here is the process:\n",
    "1. For each word in the list, figure out which states don't share any letters with that word\n",
    "2. Keep all the words that have exactly one state associated with them. These are our \"mackerels\".\n",
    "3. Now we can answer the first question: what is the longest mackerel.\n",
    "4. Rearrange our data so that instead of having one state for each word, we have a list of words for each state.\n",
    "5. Now we can answer the extra credit question: which state has the most mackerels."
   ]
  },
  {
   "cell_type": "code",
   "execution_count": 6,
   "metadata": {},
   "outputs": [
    {
     "name": "stdout",
     "output_type": "stream",
     "text": [
      "The word list contains 172820 words.\n"
     ]
    }
   ],
   "source": [
    "states = [\"Alabama\",\"Alaska\",\"Arizona\",\"Arkansas\",\"California\",\"Colorado\",\n",
    "  \"Connecticut\",\"Delaware\",\"Florida\",\"Georgia\",\"Hawaii\",\"Idaho\",\"Illinois\",\n",
    "  \"Indiana\",\"Iowa\",\"Kansas\",\"Kentucky\",\"Louisiana\",\"Maine\",\"Maryland\",\n",
    "  \"Massachusetts\",\"Michigan\",\"Minnesota\",\"Mississippi\",\"Missouri\",\"Montana\",\n",
    "  \"Nebraska\",\"Nevada\",\"New Hampshire\",\"New Jersey\",\"New Mexico\",\"New York\",\n",
    "  \"North Carolina\",\"North Dakota\",\"Ohio\",\"Oklahoma\",\"Oregon\",\"Pennsylvania\",\n",
    "  \"Rhode Island\",\"South Carolina\",\"South Dakota\",\"Tennessee\",\"Texas\",\"Utah\",\n",
    "  \"Vermont\",\"Virginia\",\"Washington\",\"West Virginia\",\"Wisconsin\",\"Wyoming\"]\n",
    "\n",
    "# assemble word list\n",
    "f = open(\"enable1.txt\",\"r\")\n",
    "words = [ w[:-1] for w in f ]\n",
    "N = len(words)\n",
    "print('The word list contains', N, 'words.')\n",
    "\n",
    "# words = words[:100]"
   ]
  },
  {
   "cell_type": "code",
   "execution_count": 8,
   "metadata": {},
   "outputs": [
    {
     "name": "stdout",
     "output_type": "stream",
     "text": [
      "Wall time: 7.22 s\n"
     ]
    }
   ],
   "source": [
    "%%time\n",
    "# for each word, figure out which states have no letters in common.\n",
    "# keep only the words for which this is true for exactly one state.\n",
    "mackerels = dict()\n",
    "state_letter_list = [ set(state.lower().replace(\" \",\"\")) for state in states ]\n",
    "for word in words:\n",
    "    word_letters = set(word)\n",
    "    state_candidates = [ state for ix,state in enumerate(states) if len(state_letter_list[ix].intersection(word_letters)) == 0 ]\n",
    "    if len(state_candidates) == 1:\n",
    "        mackerels[word] = state_candidates[0]"
   ]
  },
  {
   "cell_type": "code",
   "execution_count": 9,
   "metadata": {},
   "outputs": [
    {
     "data": {
      "text/plain": [
       "[('counterconditionings', 'Alabama'),\n",
       " ('expressionlessnesses', 'Utah'),\n",
       " ('hyperconsciousnesses', 'Alabama'),\n",
       " ('hypersensitivenesses', 'Alabama'),\n",
       " ('interconnectednesses', 'Alabama'),\n",
       " ('microelectrophoretic', 'Kansas'),\n",
       " ('nondestructivenesses', 'Alabama'),\n",
       " ('overprotectivenesses', 'Alabama')]"
      ]
     },
     "execution_count": 9,
     "metadata": {},
     "output_type": "execute_result"
    }
   ],
   "source": [
    "# show the longest mackerels and their associated state\n",
    "longest_mack_length = max( [len(mack) for mack,state in mackerels.items() ] )\n",
    "longest_mackerels = [mack for mack,state in mackerels.items() if len(mack) == longest_mack_length]\n",
    "[(mack, mackerels[mack]) for mack in longest_mackerels]"
   ]
  },
  {
   "cell_type": "code",
   "execution_count": 11,
   "metadata": {},
   "outputs": [
    {
     "data": {
      "text/plain": [
       "[('Ohio', 7523),\n",
       " ('Alabama', 5181),\n",
       " ('Utah', 4300),\n",
       " ('Mississippi', 3339),\n",
       " ('Hawaii', 1175)]"
      ]
     },
     "execution_count": 11,
     "metadata": {},
     "output_type": "execute_result"
    }
   ],
   "source": [
    "# rearrange so we have a list of mackerels for each state\n",
    "# print the states with the most mackerels\n",
    "mackerels_per_state = dict()\n",
    "\n",
    "for state in states:\n",
    "    mackerels_per_state[state] = []\n",
    "\n",
    "for mack,state in mackerels.items():\n",
    "    mackerels_per_state[state].append(mack)\n",
    "    \n",
    "number_of_mackerels = [ (state, len(mackerels_per_state[state])) for state in states ]\n",
    "number_of_mackerels_sorted = sorted( number_of_mackerels, key=lambda x: x[1], reverse=True )\n",
    "number_of_mackerels_sorted[:5]"
   ]
  },
  {
   "cell_type": "code",
   "execution_count": null,
   "metadata": {},
   "outputs": [],
   "source": []
  }
 ],
 "metadata": {
  "kernelspec": {
   "display_name": "Python 3",
   "language": "python",
   "name": "python3"
  },
  "language_info": {
   "codemirror_mode": {
    "name": "ipython",
    "version": 3
   },
   "file_extension": ".py",
   "mimetype": "text/x-python",
   "name": "python",
   "nbconvert_exporter": "python",
   "pygments_lexer": "ipython3",
   "version": "3.8.2"
  }
 },
 "nbformat": 4,
 "nbformat_minor": 4
}
