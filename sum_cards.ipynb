{
 "cells": [
  {
   "cell_type": "markdown",
   "id": "42ba0c41-9e29-4f38-8267-f603d861f902",
   "metadata": {},
   "source": [
    "# Can you sum some cards?\n",
    "## [Fiddler, Feb. 16, 2024](https://thefiddler.substack.com/p/can-you-sum-some-cards)\n",
    "\n",
    "### solution by [Laurent Lessard](https://laurentlessard.com)\n",
    "\n",
    "This heavily optimized Julia code finds for $N=1,2,\\dots,7$ the largest $k$ such that there exists a sequence $a_1,\\dots,a_k \\in \\{1,2,\\dots,N\\}$ such that for all values $p,q,r$ with $1\\leq p\\leq q\\lt r\\leq k$ it is never true that\n",
    "$$\\sum_{m=p}^{q}{a_m} = \\sum_{n=q+1}^{r}{a_n}.$$\n",
    "I stopped at $N=7$ because in spite of all the optimization, this is a fundamentally hard combinatorial problem and solving $N=8$ would likely take all day!"
   ]
  },
  {
   "cell_type": "code",
   "execution_count": 1,
   "id": "d1a46dbd-2ae4-4e40-a3d8-875594dc0161",
   "metadata": {},
   "outputs": [
    {
     "data": {
      "text/plain": [
       "longest_no_slap_sequences (generic function with 1 method)"
      ]
     },
     "execution_count": 1,
     "metadata": {},
     "output_type": "execute_result"
    }
   ],
   "source": [
    "function sorted_intersect(x::Vector{Int64}, y::Vector{Int64})\n",
    "    n = length(x)\n",
    "    i, j = 1, 1\n",
    "    while i <= n && j <= n\n",
    "        if x[i] < y[j]\n",
    "            i += 1\n",
    "        elseif y[j] < x[i]\n",
    "            j += 1\n",
    "        else\n",
    "            return true\n",
    "        end\n",
    "    end\n",
    "    return false\n",
    "end\n",
    "\n",
    "function slap(x::Vector{Int64})   \n",
    "    v = cumsum(reverse(x))\n",
    "    return sorted_intersect(v, 2*v)\n",
    "end\n",
    "\n",
    "function extend_sequences(sequences, N::Int64)\n",
    "    new_sequences = []\n",
    "    for seq in sequences\n",
    "        for i in 1:N\n",
    "            if !slap([seq; i])  # Assuming this checks validity efficiently\n",
    "                push!(new_sequences, [seq; i])\n",
    "            end\n",
    "        end\n",
    "    end\n",
    "    return new_sequences\n",
    "end\n",
    "\n",
    "function longest_no_slap_sequences(N::Int64)\n",
    "    sequences = [[i] for i in 1:N]\n",
    "    while true\n",
    "        new_sequences = extend_sequences(sequences, N)\n",
    "        if isempty(new_sequences)\n",
    "            break\n",
    "        else\n",
    "            sequences = new_sequences\n",
    "        end\n",
    "    end\n",
    "    return sequences[1]\n",
    "end"
   ]
  },
  {
   "cell_type": "code",
   "execution_count": 4,
   "id": "8a1530fd-4e5f-4fef-b073-5a06779ae4b3",
   "metadata": {},
   "outputs": [
    {
     "name": "stdout",
     "output_type": "stream",
     "text": [
      "5.7e-6,  1\n",
      "9.3e-6,  3\n",
      "4.08e-5,  7\n",
      "0.0004714,  9\n",
      "0.0103454,  15\n",
      "1.1435513,  21\n",
      "49.0357215,  31\n"
     ]
    }
   ],
   "source": [
    "exemplars = []\n",
    "times = []\n",
    "for N = 1:7\n",
    "    t = @elapsed begin\n",
    "        e = longest_no_slap_sequences(N)\n",
    "    end\n",
    "    push!(exemplars, e)\n",
    "    push!(times, t)\n",
    "    println(t,\",  \", length(e))\n",
    "end"
   ]
  },
  {
   "cell_type": "code",
   "execution_count": 5,
   "id": "1ce0dfa3-d69b-4a8c-9277-f04046d69db8",
   "metadata": {},
   "outputs": [
    {
     "name": "stdout",
     "output_type": "stream",
     "text": [
      "time: 5.7e-6 seconds, length 1, example: [1]\n",
      "time: 9.3e-6 seconds, length 3, example: [1, 2, 1]\n",
      "time: 4.08e-5 seconds, length 7, example: [1, 3, 2, 3, 1, 3, 2]\n",
      "time: 0.0004714 seconds, length 9, example: [1, 4, 3, 4, 2, 4, 3, 4, 1]\n",
      "time: 0.0103454 seconds, length 15, example: [1, 3, 2, 4, 5, 3, 4, 5, 1, 3, 2, 4, 5, 3, 4]\n",
      "time: 1.1435513 seconds, length 21, example: [3, 5, 4, 6, 4, 3, 5, 4, 6, 5, 6, 2, 6, 5, 6, 1, 3, 5, 6, 1, 6]\n",
      "time: 49.0357215 seconds, length 31, example: [1, 7, 6, 7, 5, 7, 6, 4, 3, 4, 6, 7, 5, 7, 6, 7, 1, 7, 6, 7, 5, 7, 6, 4, 3, 4, 6, 7, 5, 7, 6]\n"
     ]
    }
   ],
   "source": [
    "for (t,e) in zip(times, exemplars)\n",
    "    println( \"time: $t seconds, length $(length(e)), example: $e\" )\n",
    "end"
   ]
  },
  {
   "cell_type": "code",
   "execution_count": null,
   "id": "ee656ca1-cce3-4334-93b0-91c31864667b",
   "metadata": {},
   "outputs": [],
   "source": []
  }
 ],
 "metadata": {
  "kernelspec": {
   "display_name": "Julia 1.10.0",
   "language": "julia",
   "name": "julia-1.10"
  },
  "language_info": {
   "file_extension": ".jl",
   "mimetype": "application/julia",
   "name": "julia",
   "version": "1.10.0"
  }
 },
 "nbformat": 4,
 "nbformat_minor": 5
}
