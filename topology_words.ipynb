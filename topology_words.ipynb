{
 "cells": [
  {
   "cell_type": "markdown",
   "id": "690ff54b-f4e0-4476-a63a-de713dfab986",
   "metadata": {},
   "source": [
    "# **Can you decipher the secret message?**\n",
    "\n",
    "## [Riddler Classic](https://fivethirtyeight.com/features/can-you-decipher-the-secret-message/), June 4, 2021\n",
    "\n",
    "### solution by [Laurent Lessard](https://laurentlessard.com)\n",
    "\n",
    "Alexander has long had an interest in topology, which just might be related to his submitted puzzle. Consider the following image showing a particular uppercase sans serif font:\n",
    "\n",
    "<img src=\"https://fivethirtyeight.com/wp-content/uploads/2021/06/Screen-Shot-2021-05-31-at-6.53.29-PM.png?w=1400\" width=500>\n",
    "\n",
    "Alexander thinks many of these letters are equivalent, but he leaves it to you to figure out how and why. He also has a message for you:\n",
    "\n",
    "<img src=\"https://fivethirtyeight.com/wp-content/uploads/2021/06/Screen-Shot-2021-05-31-at-6.56.54-PM.png?w=1400\" width=500>\n",
    "\n",
    "It may not look like much, but Alexander assures me that it is equivalent to exactly one word in the English language.\n",
    "\n",
    "What is Alexander’s message?\n",
    "\n",
    "---"
   ]
  },
  {
   "cell_type": "markdown",
   "id": "6332fe64-a9f7-4f5c-b61b-dd62b5058944",
   "metadata": {},
   "source": [
    "## Solution\n",
    "\n",
    "We start by creating a partition of the alphabet, which determines which groups of letters are considered to be equivalent. For example, we could use:\n",
    "```python\n",
    "['ABCDEFG','HIJKLMNOP','QRSTUVWXYZ']\n",
    "```\n",
    "Each letter maps to a group number `(A:1, K:2, X:3, etc)`. We can then map each English word to an integer. For example, `\"GRAPE\":13121`. If two words map to the same integer, then they are equivalent. We then start with our target word `\"YIRTHA\"` and see how many matches it has in the entire word list. The goal is to find a grouping that leads to a single match for the target word. The grouping should be thematic (based on the \"topology\" clue in the puzzle), and the word itself is also likely thematic.\n",
    "\n",
    "The most thematic grouping is to use topological homeomorphism, i.e. counting the number of \"holes\" that each letter contains. This leads to the grouping:\n",
    "```python\n",
    "['CEFGHIJKLMNSTUVWXYZ', 'ADOPQR', 'B']\n",
    "```\n",
    "Unfortunately, this leads to 301 matches. Likely because the grouping is so lopsided; most letters have no holes. So we need to refine our grouping a bit. I tried several others (see code below). The solution turns out to be to group letters based on number of holes _and_ number of \"dead ends\". For example, `A` and `R` are still equivalent (both have one hole and two dead ends), but `A` and `Q` are no longer equivalent, because `Q` only has one dead end. This leads us to the grouping:\n",
    "```python\n",
    "['AR', 'B', 'CGIJLMNSUVWZ', 'DO', 'PQ', 'EFTY', 'HKX']\n",
    "```\n",
    "And this works! The match is `EUREKA`, which makes sense. Code is below"
   ]
  },
  {
   "cell_type": "markdown",
   "id": "ca3e9bb8-3cc6-48ad-a74d-bfe7f7301289",
   "metadata": {},
   "source": [
    "### Main code"
   ]
  },
  {
   "cell_type": "code",
   "execution_count": 101,
   "id": "847fc057-9541-4ea8-bc8c-be4b311c07c7",
   "metadata": {},
   "outputs": [],
   "source": [
    "# download a list of English words\n",
    "import urllib.request\n",
    "target_url = \"https://norvig.com/ngrams/enable1.txt\"\n",
    "wordlist = urllib.request.urlopen(target_url).read().decode(\"utf-8\").upper().splitlines()\n",
    "\n",
    "# all letters in the alphabet\n",
    "alphabet = 'ABCDEFGHIJKLMNOPQRSTUVWXYZ'"
   ]
  },
  {
   "cell_type": "code",
   "execution_count": 142,
   "id": "67a98c4a-98d5-49be-9cfd-94554067f785",
   "metadata": {},
   "outputs": [],
   "source": [
    "def findmatches(targetword, grouping):\n",
    "    # filter the list to only keep words of the appropriate length\n",
    "    wordlength = len(targetword)\n",
    "    shortlist = [ word for word in wordlist if len(word) == wordlength ] \n",
    "\n",
    "    # create a map of each letter to its corresponding group number\n",
    "    lettermap = { letter : ix for ix,group in enumerate(grouping,start=1) for letter in group }\n",
    "\n",
    "    # function that maps words to groups (works for < 10 groups)\n",
    "    def myhash(word):\n",
    "        h = 0\n",
    "        for letter in word:\n",
    "            h = 10*h + lettermap[letter]\n",
    "        return h\n",
    "\n",
    "    # convert each word into its equivalence class identifier\n",
    "    hashlist = [myhash(word) for word in shortlist]\n",
    "\n",
    "    # get matching words in the list\n",
    "    targethash = myhash(targetword)\n",
    "    return [shortlist[ix] for ix,h in enumerate(hashlist) if h == targethash] "
   ]
  },
  {
   "cell_type": "code",
   "execution_count": 147,
   "id": "785afd06-48f3-433c-80f4-17cbf5ca30d9",
   "metadata": {},
   "outputs": [
    {
     "name": "stdout",
     "output_type": "stream",
     "text": [
      "Target word is YIRTHA\n",
      "There are 1 matches\n",
      "first 10 results:\n"
     ]
    },
    {
     "data": {
      "text/plain": [
       "['EUREKA']"
      ]
     },
     "execution_count": 147,
     "metadata": {},
     "output_type": "execute_result"
    }
   ],
   "source": [
    "# specify the target word\n",
    "targetword = 'YIRTHA'\n",
    "\n",
    "# some partitions that did not work\n",
    "grouping = ['CEFGHIJKLMNSTUVWXYZ', 'ADOPQR', 'B']  # topological homeomorphism (number of holes)\n",
    "grouping = ['BCDGIJLMNOPSTUVWZ', 'AEFQRXY', 'HK']  # number of pen strokes required to draw the letter\n",
    "grouping = ['CIJOSU', 'DLPQTVX', 'ABFGHKNRYZ', 'EMW']  # number of distinct {curve,line} objects in each letter\n",
    "grouping = ['BDO', 'PQ', 'ACGIJLMNRSUVWZ', 'EFTY', 'HKX']  # number of \"dead ends\" in each letter\n",
    "\n",
    "# the winner!\n",
    "grouping = ['AR', 'B', 'CGIJLMNSUVWZ', 'DO', 'PQ', 'EFTY', 'HKX']  # continuous deformation (preserving dead ends)\n",
    "\n",
    "# matching list of words\n",
    "matchlist = findmatches(targetword, grouping)\n",
    "\n",
    "print(f'Target word is {seedword}')\n",
    "print(f'There are {len(matchlist)} matches')\n",
    "print('first 10 results:')\n",
    "matchlist[:10]"
   ]
  },
  {
   "cell_type": "markdown",
   "id": "f276fd98-74a2-4196-808e-5dd26fe2fed9",
   "metadata": {},
   "source": [
    "### Supplementary functions (encoding/decoding)"
   ]
  },
  {
   "cell_type": "code",
   "execution_count": 316,
   "id": "be3c5303-4cb3-4a82-9a31-46b1e4aba417",
   "metadata": {},
   "outputs": [],
   "source": [
    "import random\n",
    "\n",
    "numgroups = len(grouping)\n",
    "lettermap = { letter : ix for ix,group in enumerate(grouping) for letter in group }\n",
    "inversemap = [ [] for _ in range(numgroups) ]\n",
    "for letter in alphabet:\n",
    "    inversemap[lettermap[letter]].append(letter)\n",
    "    \n",
    "def scramble(sentence):\n",
    "    output = []\n",
    "    for letter in sentence:\n",
    "        if letter in ' ()':\n",
    "            output.append(letter)\n",
    "        else:\n",
    "            output.append(random.choice(inversemap[lettermap[letter]]))\n",
    "    return ''.join(output)\n",
    "\n",
    "def unscramble(sentence):\n",
    "    output = []\n",
    "    words = sentence.split()\n",
    "    for word in words:\n",
    "        matches = findmatches(word, grouping)\n",
    "        if len(matches) == 1:\n",
    "            output.append(matches[0])\n",
    "        else:\n",
    "            output.append('?' * len(word))\n",
    "    return ' '.join(output)"
   ]
  },
  {
   "cell_type": "code",
   "execution_count": 324,
   "id": "40cb3be9-397f-4cf9-b532-64389e1e2f73",
   "metadata": {},
   "outputs": [
    {
     "name": "stdout",
     "output_type": "stream",
     "text": [
      "OYEORNRYMDU FOPDVOUZVAL HDWTOUDRQKVWJ USYXOCE GOZWAQMJZM PADFAUOGGM QDRTZDUM\n"
     ]
    }
   ],
   "source": [
    "random.seed(0)\n",
    "encoded = scramble('DEFORMATION TOPOLOGICAL HOMEOMORPHISM WITHOUT COLLAPSING PROTRUDING PORTIONS')\n",
    "print(encoded)"
   ]
  },
  {
   "cell_type": "code",
   "execution_count": 325,
   "id": "0bc85e6b-e588-4785-bf53-014b1429e757",
   "metadata": {},
   "outputs": [
    {
     "name": "stdout",
     "output_type": "stream",
     "text": [
      "DEFORMATION TOPOLOGICAL HOMEOMORPHISM WITHOUT COLLAPSING PROTRUDING PORTIONS\n"
     ]
    }
   ],
   "source": [
    "decoded = unscramble(encoded)\n",
    "print(decoded)"
   ]
  },
  {
   "cell_type": "code",
   "execution_count": null,
   "id": "9a73fba5-910b-45b6-9a35-fd88c7726f1a",
   "metadata": {},
   "outputs": [],
   "source": []
  }
 ],
 "metadata": {
  "kernelspec": {
   "display_name": "Python 3",
   "language": "python",
   "name": "python3"
  },
  "language_info": {
   "codemirror_mode": {
    "name": "ipython",
    "version": 3
   },
   "file_extension": ".py",
   "mimetype": "text/x-python",
   "name": "python",
   "nbconvert_exporter": "python",
   "pygments_lexer": "ipython3",
   "version": "3.8.8"
  }
 },
 "nbformat": 4,
 "nbformat_minor": 5
}
